{
 "cells": [
  {
   "cell_type": "markdown",
   "id": "29b0b445",
   "metadata": {},
   "source": [
    "## *args vs **kwargs\n",
    "* 兩種皆常見於函數的引數使用\n",
    "* 對於未知有多少引數下，使用起來更有彈性\n",
    "* args、kwargs 只是命名，想取甚麼都可以，常用命名由於引數（arguments）、關鍵引數（keyword arguments）\n",
    "* `*`、`**` 各有其使用上的優缺點，所以兩個並用時就可以表達取用任意引數形式\n",
    "\n",
    "\n",
    "### *args\n",
    "* `*` 將多個引數集成 tuple\n",
    "* 因為為 tuple 所以可以進行迭代；但也伴隨著順序性，在多個引數時難以指定\n",
    "\n",
    "### **kwargs\n",
    "* `**` 將多個引數集成 dictionary\n",
    "* 因為為 dictionary 所以需指名；但也因此即使有多個引數也可以指定"
   ]
  },
  {
   "cell_type": "code",
   "execution_count": 2,
   "id": "15829c12",
   "metadata": {},
   "outputs": [
    {
     "name": "stdout",
     "output_type": "stream",
     "text": [
      "10\n",
      "10\n",
      "20\n"
     ]
    }
   ],
   "source": [
    "#### *args 範例\n",
    "\n",
    "def old_adder(a, b, c, d):\n",
    "    return a+b+c+d\n",
    "\n",
    "def new_adder(*args):\n",
    "    num = 0\n",
    "    for i in args:\n",
    "        num += i\n",
    "    return num\n",
    "\n",
    "print(old_adder(1, 2, 3, 4))\n",
    "print(new_adder(1, 2, 3, 4))\n",
    "print(new_adder(1, 2, 3, 4, 1, 2, 3, 4))"
   ]
  },
  {
   "cell_type": "code",
   "execution_count": 9,
   "id": "ccacad7c",
   "metadata": {},
   "outputs": [
    {
     "name": "stdout",
     "output_type": "stream",
     "text": [
      "None\n",
      "{'name': 'Amy', 'gender': 'F', 'age': 15}\n",
      "None\n",
      "{'name': 'Ken', 'age': 20}\n",
      "None\n",
      "None\n",
      "{'name': 'Amy', 'gender': 'F', 'age': 15, 'region': 'northern'}\n",
      "None\n",
      "{'name': 'Ken', 'age': 20, 'region': 'northern', 'gender': 'M'}\n",
      "None\n"
     ]
    }
   ],
   "source": [
    "#### *kwargs 範例\n",
    "\n",
    "def get_info(**kwargs):\n",
    "    print(kwargs)\n",
    "\n",
    "get_info(name='Amy', gender='F', age=15)\n",
    "get_info(name='Ken', age=20)\n",
    "\n",
    "def get_new_info(**kwargs):\n",
    "    kwargs.setdefault('region', 'northern')\n",
    "    kwargs.setdefault('gender', 'M')\n",
    "    print(kwargs)\n",
    "\n",
    "get_new_info(name='Amy', gender='F', age=15)\n",
    "get_new_info(name='Ken', age=20)"
   ]
  },
  {
   "cell_type": "markdown",
   "id": "1f454ccc",
   "metadata": {},
   "source": [
    "## default arguments\n",
    "* def：為一裝著程式碼的物件\n",
    "* default arguments：為創造 def 時即存在 __defaults__\n",
    "    * 註 1：帶預設值的引數需放置於未帶預設值的引數之後\n",
    "    * 註 2：若為可變物件（list, dict, set, ...）則需注意其效果\n",
    "* code：為創造 def 時即存在 __code__，在 def 被呼叫時進行計算"
   ]
  },
  {
   "cell_type": "code",
   "execution_count": 38,
   "id": "ee2aad98",
   "metadata": {},
   "outputs": [
    {
     "name": "stdout",
     "output_type": "stream",
     "text": [
      "b=4, c=5\n",
      "10\n",
      "b=5, c=4\n",
      "10\n",
      "b=5, c=10\n",
      "16\n",
      "b=1, c=10\n",
      "12\n"
     ]
    }
   ],
   "source": [
    "'''\n",
    "註 1：帶預設值的引數需放置於未帶預設值的引數之後\n",
    "\n",
    "--> 若不照順序置放，則需指定引數名稱做帶入\n",
    "--> 帶預設值的引數位置有放值，則會自動取代預設值\n",
    "--> 帶預設值的引數位置沒放值，則會自動帶入預設值\n",
    "'''\n",
    "\n",
    "def adder(a, b=1, c=10):\n",
    "    print(f'b={b}, c={c}')\n",
    "    return a + b + c\n",
    "\n",
    "# print(adder(c=5, 1, b=4)) # SyntaxError: positional argument follows keyword argument\n",
    "print(adder(c=5, a=1, b=4))\n",
    "# print(adder(c=5, b=4)) # TypeError: adder() missing 1 required positional argument: 'a'\n",
    "print(adder(1, 5, 4))\n",
    "print(adder(1, 5))\n",
    "print(adder(1))"
   ]
  },
  {
   "cell_type": "code",
   "execution_count": 42,
   "id": "04f1ce9c",
   "metadata": {},
   "outputs": [
    {
     "name": "stdout",
     "output_type": "stream",
     "text": [
      "test\n",
      "None\n",
      "[0, 1, 2]\n",
      "None\n",
      "[[0, 1, 2]]\n",
      "None\n",
      "===========================\n",
      "([],)\n",
      "[0]\n",
      "([0],)\n",
      "[0, 0]\n",
      "([0, 0],)\n",
      "===========================\n",
      "None\n",
      "[0]\n",
      "None\n",
      "[1, 2, 0]\n",
      "None\n"
     ]
    }
   ],
   "source": [
    "'''\n",
    "註 2：若為可變物件（list, dict, set, ...）則需注意其效果\n",
    "\n",
    "--> **kwargs：__defaults__ 沒有存任何訊息\n",
    "--> a = list()：指定預設引數 a 為可變物件，__defaults__ 隨著 def 使用的次數而變\n",
    "--> typing 的 Sequence：設定引數型態，但 __defaults__ 沒有存任何訊息\n",
    "'''\n",
    "\n",
    "def test(*args):\n",
    "    a = []\n",
    "    for i in args:\n",
    "        a.append(i)\n",
    "    print(a)\n",
    "\n",
    "print(test.__defaults__)\n",
    "test(0, 1, 2)\n",
    "print(test.__defaults__)\n",
    "test(list([0, 1, 2]))\n",
    "print(test.__defaults__)\n",
    "\n",
    "print('===========================')\n",
    "\n",
    "def new_test(a = list()):\n",
    "    a.append(0)\n",
    "    print(a)\n",
    "\n",
    "print(new_test.__defaults__)\n",
    "new_test()\n",
    "print(new_test.__defaults__)\n",
    "new_test()\n",
    "print(new_test.__defaults__)\n",
    "\n",
    "print('===========================')\n",
    "\n",
    "from typing import Sequence\n",
    "\n",
    "def new_test2(a:Sequence):\n",
    "    a.append(0)\n",
    "    print(a)\n",
    "\n",
    "print(new_test2.__defaults__)\n",
    "new_test2([])\n",
    "print(new_test2.__defaults__)\n",
    "new_test2([1, 2])\n",
    "print(new_test2.__defaults__)"
   ]
  },
  {
   "cell_type": "code",
   "execution_count": 47,
   "id": "ce10e4dc",
   "metadata": {},
   "outputs": [
    {
     "name": "stdout",
     "output_type": "stream",
     "text": [
      "'test'\n",
      "test\n",
      "['__annotations__', '__call__', '__class__', '__closure__', '__code__', '__defaults__', '__delattr__', '__dict__', '__dir__', '__doc__', '__eq__', '__format__', '__ge__', '__get__', '__getattribute__', '__globals__', '__gt__', '__hash__', '__init__', '__init_subclass__', '__kwdefaults__', '__le__', '__lt__', '__module__', '__name__', '__ne__', '__new__', '__qualname__', '__reduce__', '__reduce_ex__', '__repr__', '__setattr__', '__sizeof__', '__str__', '__subclasshook__']\n"
     ]
    }
   ],
   "source": [
    "print(f'{test.__name__!r}')\n",
    "print(test.__name__)\n",
    "print(dir(test))"
   ]
  }
 ],
 "metadata": {
  "kernelspec": {
   "display_name": "Python 3",
   "language": "python",
   "name": "python3"
  },
  "language_info": {
   "codemirror_mode": {
    "name": "ipython",
    "version": 3
   },
   "file_extension": ".py",
   "mimetype": "text/x-python",
   "name": "python",
   "nbconvert_exporter": "python",
   "pygments_lexer": "ipython3",
   "version": "3.6.8"
  }
 },
 "nbformat": 4,
 "nbformat_minor": 5
}
