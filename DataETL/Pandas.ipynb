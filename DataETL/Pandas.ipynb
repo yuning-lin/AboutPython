{
 "cells": [
  {
   "cell_type": "code",
   "execution_count": 1,
   "metadata": {},
   "outputs": [],
   "source": [
    "import pandas as pd\n",
    "import xlrd # for xlsx\n",
    "import openpyxl # for xlsx\n",
    "import matplotlib.pyplot as plt\n",
    "\n",
    "\n",
    "'''\n",
    "開放資料來源：\n",
    "xlsx：https://www.stats.govt.nz/assets/Reports/Global-New-Zealand/Global-New-Zealand-year-ended-June-2017/global-nz-jun-2017-tables-0.xlsx\n",
    "csv：https://www.stats.govt.nz/assets/Uploads/Annual-enterprise-survey/Annual-enterprise-survey-2019-financial-year-provisional/Download-data/annual-enterprise-survey-2019-financial-year-provisional-csv.csv\n",
    "'''\n",
    "\n",
    "\n",
    "# 指定 pandas dataframe 在 console 秀出的大小\n",
    "pd.set_option('display.max_rows', 50)\n",
    "pd.set_option('display.max_columns', 50)\n",
    "pd.set_option('display.width', 100)"
   ]
  },
  {
   "cell_type": "code",
   "execution_count": 6,
   "metadata": {},
   "outputs": [
    {
     "name": "stdout",
     "output_type": "stream",
     "text": [
      "瀏覽資料：\n",
      "   Year Industry_aggregation_NZSIOC Industry_code_NZSIOC Industry_name_NZSIOC               Units  \\\n",
      "0  2019                     Level 1                99999       All industries  Dollars (millions)   \n",
      "1  2019                     Level 1                99999       All industries  Dollars (millions)   \n",
      "2  2019                     Level 1                99999       All industries  Dollars (millions)   \n",
      "3  2019                     Level 1                99999       All industries  Dollars (millions)   \n",
      "4  2019                     Level 1                99999       All industries  Dollars (millions)   \n",
      "\n",
      "  Variable_code                                    Variable_name      Variable_category    Value  \\\n",
      "0           H01                                     Total income  Financial performance  728,239   \n",
      "1           H04  Sales, government funding, grants and subsidies  Financial performance  643,809   \n",
      "2           H05                Interest, dividends and donations  Financial performance   62,924   \n",
      "3           H07                             Non-operating income  Financial performance   21,505   \n",
      "4           H08                                Total expenditure  Financial performance  634,710   \n",
      "\n",
      "                              Industry_code_ANZSIC06  \n",
      "0  ANZSIC06 divisions A-S (excluding classes K633...  \n",
      "1  ANZSIC06 divisions A-S (excluding classes K633...  \n",
      "2  ANZSIC06 divisions A-S (excluding classes K633...  \n",
      "3  ANZSIC06 divisions A-S (excluding classes K633...  \n",
      "4  ANZSIC06 divisions A-S (excluding classes K633...  \n",
      "概覽欄位：\n",
      "Index(['Year', 'Industry_aggregation_NZSIOC', 'Industry_code_NZSIOC', 'Industry_name_NZSIOC',\n",
      "       'Units', 'Variable_code', 'Variable_name', 'Variable_category', 'Value',\n",
      "       'Industry_code_ANZSIC06'],\n",
      "      dtype='object')\n",
      "概覽變大寫的欄位：\n",
      "Index(['YEAR', 'INDUSTRY_AGGREGATION_NZSIOC', 'INDUSTRY_CODE_NZSIOC', 'INDUSTRY_NAME_NZSIOC',\n",
      "       'UNITS', 'VARIABLE_CODE', 'VARIABLE_NAME', 'VARIABLE_CATEGORY', 'VALUE',\n",
      "       'INDUSTRY_CODE_ANZSIC06'],\n",
      "      dtype='object')\n"
     ]
    }
   ],
   "source": [
    "'''\n",
    "read_csv:根據檔案下載處記錄下路徑，讀取 csv 檔\n",
    "印出前五列以及所有欄位名稱\n",
    "將欄位名稱改成全大寫\n",
    "'''\n",
    "csv_file_path = './annual-enterprise-survey-2019-financial-year-provisional-csv.csv'\n",
    "csv_data = pd.read_csv(csv_file_path)\n",
    "print('瀏覽資料：',csv_data.head(), sep='\\n')\n",
    "print('概覽欄位：',csv_data.columns, sep='\\n')\n",
    "rename_dict = dict(zip(csv_data.columns,csv_data.columns.str.upper()))\n",
    "csv_data = csv_data.rename(columns=rename_dict)\n",
    "print('概覽變大寫的欄位：',csv_data.columns, sep='\\n')"
   ]
  },
  {
   "cell_type": "code",
   "execution_count": 8,
   "metadata": {},
   "outputs": [
    {
     "name": "stdout",
     "output_type": "stream",
     "text": [
      "印出所有 sheet：\n",
      "dict_keys(['Title page', '0.1', '0.2', '0.3', '0.4'])\n",
      "概覽 sheet=01：\n",
      "                             Table 0.1                Unnamed: 1  Unnamed: 2    Unnamed: 3  \\\n",
      "0            New Zealand total exports                       NaN         NaN           NaN   \n",
      "1                 By top 30 categories                       NaN         NaN           NaN   \n",
      "2                           June years                       NaN         NaN           NaN   \n",
      "3                  Commodity / service  Exports NZ$(million) fob         NaN           NaN   \n",
      "4                                  NaN                      2016  % of total   2017.000000   \n",
      "5                                  NaN                       NaN         NaN           NaN   \n",
      "6     Milk powder, butter, and cheese                    11162.2     15.7507  12506.474447   \n",
      "7  Travel: business and other personal                     10264     14.4833  10238.000000   \n",
      "8               Meat and edible offal                       6602     9.31593   6048.094580   \n",
      "9        Logs, wood, and wood articles                    3823.3     5.39497   4223.467207   \n",
      "\n",
      "   Unnamed: 4  \n",
      "0         NaN  \n",
      "1         NaN  \n",
      "2         NaN  \n",
      "3         NaN  \n",
      "4  % of total  \n",
      "5         NaN  \n",
      "6     17.4142  \n",
      "7     14.2556  \n",
      "8     8.42148  \n",
      "9     5.88083  \n"
     ]
    }
   ],
   "source": [
    "'''\n",
    "read_excel:讀 xlsx, xls 檔皆可以用  read_excel\n",
    "當 sheet_name=None 時，用字典存取各個 sheet\n",
    "呼叫指定 sheet 需用 sheet 名作為 key\n",
    "'''\n",
    "xlsx_file_path = './global-nz-jun-2017-tables-0.xlsx'\n",
    "xlsx_data = pd.read_excel(xlsx_file_path, sheet_name=None)\n",
    "print('印出所有 sheet：',xlsx_data.keys(), sep='\\n')\n",
    "table01 = xlsx_data['0.1']\n",
    "print('概覽 sheet=01：', table01.head(10), sep='\\n')"
   ]
  },
  {
   "cell_type": "code",
   "execution_count": 34,
   "metadata": {},
   "outputs": [
    {
     "name": "stdout",
     "output_type": "stream",
     "text": [
      "概覽 sheet=01 其 3,4,5 列作為欄位名稱：\n",
      "  June years_Commodity / service_Unnamed: 0_level_2  June years_Exports NZ$(million) fob_2016  \\\n",
      "0                  Milk powder, butter, and cheese                               11162.150792   \n",
      "1               Travel: business and other personal                              10264.000000   \n",
      "2                            Meat and edible offal                                6602.001849   \n",
      "3                     Logs, wood, and wood articles                               3823.299758   \n",
      "4               Travel: personal: education related                               3472.000000   \n",
      "\n",
      "   June years_Exports NZ$(million) fob_% of total  June years_Exports NZ$(million) fob_2017  \\\n",
      "0                                       15.750652                              12506.474447   \n",
      "1                                       14.483292                              10238.000000   \n",
      "2                                        9.315932                               6048.094580   \n",
      "3                                        5.394970                               4223.467207   \n",
      "4                                        4.899259                               3649.000000   \n",
      "\n",
      "   June years_Exports NZ$(million) fob_% of total.1  \n",
      "0                                         17.414246  \n",
      "1                                         14.255580  \n",
      "2                                          8.421478  \n",
      "3                                          5.880834  \n",
      "4                                          5.080935  \n"
     ]
    }
   ],
   "source": [
    "'''\n",
    "read_excel:讀取單一 sheet，並指定 3,4,5 列作為欄位名稱\n",
    "且合併多列成單一欄位\n",
    "'''\n",
    "xlsx_data = pd.read_excel(xlsx_file_path, sheet_name='0.1', header=[3,4,5])\n",
    "# xlsx_data.columns = xlsx_data.columns.map('_'.join) # 欄位有數值型態不能使用\n",
    "xlsx_data.columns = xlsx_data.columns.map('{0[0]}_{0[1]}_{0[2]}'.format)\n",
    "print('概覽 sheet=01 其 3,4,5 列作為欄位名稱：', xlsx_data.head(5), sep='\\n')"
   ]
  },
  {
   "cell_type": "code",
   "execution_count": null,
   "metadata": {},
   "outputs": [],
   "source": [
    "'''\n",
    "output：為一新的資料\n",
    "目標：想將 output 以 new_sheet 插進現有 EXCEL 表，並保存原有資訊\n",
    "'''\n",
    "from openpyxl import load_workbook\n",
    "orginal = load_workbook(f'{OUTPUT_PATH}{FILENAME}.xlsx')\n",
    "writer = pd.ExcelWriter(f'{OUTPUT_PATH}{FILENAME}.xlsx', engine = 'openpyxl')\n",
    "writer.orginal = orginal\n",
    "new_df.to_excel(writer, sheet_name = 'new_sheet', index=False)\n",
    "writer.save()\n",
    "writer.close()"
   ]
  },
  {
   "cell_type": "code",
   "execution_count": 35,
   "metadata": {},
   "outputs": [
    {
     "name": "stdout",
     "output_type": "stream",
     "text": [
      "A     object\n",
      "B     object\n",
      "C    float64\n",
      "D    float64\n",
      "dtype: object\n"
     ]
    }
   ],
   "source": [
    "'''\n",
    "建立空的 dataframe\n",
    "append:插入新列，印出新列的值域型態\n",
    "'''\n",
    "df = pd.DataFrame()\n",
    "data_dict = {'A':[2,4,6,8], 'B':'even', 'C':4, 'D':3.14}\n",
    "df = df.append(data_dict, ignore_index=True)\n",
    "print(df.dtypes)"
   ]
  },
  {
   "cell_type": "code",
   "execution_count": 37,
   "metadata": {},
   "outputs": [
    {
     "name": "stdout",
     "output_type": "stream",
     "text": [
      "origin:\n",
      "     A    B    C\n",
      "6  NaN  NaN  NaN\n",
      "7  NaN  NaN  NaN\n",
      "8  NaN  NaN  NaN\n",
      "9  NaN  NaN  NaN\n",
      "after insert:\n",
      "      A    B    C\n",
      "6   NaN  NaN  NaN\n",
      "7   NaN  NaN  NaN\n",
      "8   NaN  NaN  NaN\n",
      "9   NaN  NaN  NaN\n",
      "4     2    4    5\n",
      "10    1    3    7\n",
      "11    9  NaN  NaN\n",
      "after append:\n",
      "     A    B    C\n",
      "0  NaN  NaN  NaN\n",
      "1  NaN  NaN  NaN\n",
      "2  NaN  NaN  NaN\n",
      "3  NaN  NaN  NaN\n",
      "4    2    4    5\n",
      "5    1    3    7\n",
      "6    9  NaN  NaN\n",
      "7   20   20   20\n",
      "8  200  200  200\n"
     ]
    }
   ],
   "source": [
    "'''\n",
    "建立有欄位名稱的空 dataframe，並指定索引\n",
    "loc, at:根據索引存入新資料\n",
    "append:接上新的 dataframe\n",
    "reset_index:重新編列索引\n",
    "'''\n",
    "col_names =  ['A', 'B', 'C']\n",
    "df  = pd.DataFrame(columns = col_names, index=range(6,10))\n",
    "print('origin:', df, sep='\\n')\n",
    "df.loc[len(df)] = [2, 4, 5]\n",
    "df.loc[10] = [1,3,7]\n",
    "df.at[11,'A'] = 9\n",
    "print('after insert:', df, sep='\\n')\n",
    "df2 = pd.DataFrame([[20,20,20], [200,200,200]], columns=list('ABC'))\n",
    "df = df.append(df2)\n",
    "df = df.reset_index(drop=True)\n",
    "print('after append:', df, sep='\\n')"
   ]
  },
  {
   "cell_type": "code",
   "execution_count": 39,
   "metadata": {},
   "outputs": [
    {
     "name": "stdout",
     "output_type": "stream",
     "text": [
      "s1:\n",
      "0    X0\n",
      "1    X1\n",
      "2    X2\n",
      "3    X3\n",
      "Name: ID, dtype: object\n",
      "s2:\n",
      "0    0\n",
      "1    1\n",
      "2    2\n",
      "3    3\n",
      "dtype: int64\n",
      "df:\n",
      "   order  id number\n",
      "0     10  X0    one\n",
      "1     11  X1    two\n",
      "2     12  X2  three\n",
      "3     13  X3   four\n",
      "concat_by_row:\n",
      "0    X0\n",
      "1    X1\n",
      "2    X2\n",
      "3    X3\n",
      "0     0\n",
      "1     1\n",
      "2     2\n",
      "3     3\n",
      "dtype: object\n",
      "concat_by_col:\n",
      "   ID  0\n",
      "0  X0  0\n",
      "1  X1  1\n",
      "2  X2  2\n",
      "3  X3  3\n",
      "merged:\n",
      "   order  id number  0\n",
      "0     10  X0    one  0\n",
      "1     11  X1    two  1\n",
      "2     12  X2  three  2\n",
      "3     13  X3   four  3\n",
      "merged2:\n",
      "   order  id number  0      _merge\n",
      "0   10.0  X0    one  0        both\n",
      "1   11.0  X1    two  1        both\n",
      "2   12.0  X2  three  2        both\n",
      "3   13.0  X3   four  3        both\n",
      "4    NaN  X4    NaN  4  right_only\n"
     ]
    }
   ],
   "source": [
    "'''\n",
    "concat:組合 series 成  dataframe\n",
    "merge:根據同樣欄位合成更大的 dataframe\n",
    "drop:丟棄某欄位\n",
    "'''\n",
    "s1 = pd.Series([\"X0\", \"X1\", \"X2\", \"X3\"], name=\"ID\")\n",
    "s2 = pd.Series(range(4))\n",
    "print('s1:', s1, sep='\\n')\n",
    "print('s2:', s2, sep='\\n')\n",
    "data_lst = list(zip(list(range(10,14)),\n",
    "                    [\"X0\", \"X1\", \"X2\", \"X3\"],\n",
    "                    ['one', 'two', 'three', 'four']))\n",
    "df = pd.DataFrame(data_lst, columns=['order','id','number'])\n",
    "print('df:', df, sep='\\n')\n",
    "concat_by_row = pd.concat([s1, s2], axis=0)\n",
    "print('concat_by_row:', concat_by_row, sep='\\n')\n",
    "concat_by_col = pd.concat([s1, s2], axis=1)\n",
    "print('concat_by_col:', concat_by_col, sep='\\n')\n",
    "merged = pd.merge(df, concat_by_col, left_on='id', right_on='ID', how='left')\n",
    "merged = merged.drop(columns=['ID'])\n",
    "print('merged:', merged, sep='\\n')\n",
    "\n",
    "concat_by_col = concat_by_col.rename(columns={'ID':'id'})\n",
    "concat_by_col = concat_by_col.append({'id':'X4',0:4}, ignore_index=True)\n",
    "merged2 = df.merge(concat_by_col, on='id', how='right', indicator=True)\n",
    "print('merged2:', merged2, sep='\\n')"
   ]
  },
  {
   "cell_type": "code",
   "execution_count": 43,
   "metadata": {},
   "outputs": [
    {
     "name": "stdout",
     "output_type": "stream",
     "text": [
      "order is nan:\n",
      "   order  id number  0      _merge\n",
      "4    NaN  X4    NaN  4  right_only\n",
      "order is not nan:\n",
      "   order  id number  0 _merge\n",
      "0   10.0  X0    one  0   both\n",
      "1   11.0  X1    two  1   both\n",
      "2   12.0  X2  three  2   both\n",
      "3   13.0  X3   four  3   both\n",
      "show the _merge is right_only:\n",
      "   order  id number  0      _merge\n",
      "4    NaN  X4    NaN  4  right_only\n",
      "show the two condition:\n",
      "   order  id number  0 _merge\n",
      "2   12.0  X2  three  2   both\n",
      "3   13.0  X3   four  3   both\n",
      "show the two condition with isin:\n",
      "   order  id number  0 _merge\n",
      "0   10.0  X0    one  0   both\n",
      "1   11.0  X1    two  1   both\n"
     ]
    }
   ],
   "source": [
    "'''\n",
    "isna:過濾出 dataframe 某欄位為空值的列\n",
    "isin:過濾出 dataframe 某欄位存在指定值的列\n",
    "邏輯運算子：過濾出某欄位特定值的列\n",
    "'''\n",
    "print('order is nan:', merged2[merged2.order.isna()], sep='\\n')\n",
    "print('order is not nan:',merged2[~merged2.order.isna()], sep='\\n')\n",
    "print('show the _merge is right_only:',merged2[merged2._merge=='right_only'], sep='\\n')\n",
    "print('show the two condition:',merged2[(merged2._merge=='both')&(merged2.order>11)], sep='\\n')\n",
    "print('show the two condition with isin:',merged2[(merged2._merge=='both')&(merged2.number.isin(['one','two']))], sep='\\n')"
   ]
  },
  {
   "cell_type": "code",
   "execution_count": 44,
   "metadata": {},
   "outputs": [
    {
     "name": "stdout",
     "output_type": "stream",
     "text": [
      "origin:\n",
      "   order  id number  0      _merge\n",
      "0   10.0  X0    one  0        both\n",
      "1   11.0  X1    two  1        both\n",
      "2   12.0  X2  three  2        both\n",
      "3   13.0  X3   four  3        both\n",
      "4    NaN  X4    NaN  4  right_only\n",
      "after map:\n",
      "   order  id number  0      _merge id2\n",
      "0   10.0  Y0    one  0        both  X0\n",
      "1   11.0  Y1    two  1        both  X1\n",
      "2   12.0  Y2  three  2        both  X2\n",
      "3   13.0  Y3   four  3        both  X3\n",
      "4    NaN  Y4    NaN  4  right_only  X4\n",
      "after apply:\n",
      "   order  id number  0      _merge id2  selected\n",
      "0   10.0  Y0    one  0        both  X0     False\n",
      "1   11.0  Y1    two  1        both  X1     False\n",
      "2   12.0  Y2  three  2        both  X2      True\n",
      "3   13.0  Y3   four  3        both  X3      True\n",
      "4    NaN  Y4    NaN  4  right_only  X4     False\n"
     ]
    }
   ],
   "source": [
    "'''\n",
    "map: 指定欄位引用 function\n",
    "apply: 多欄位引用 function \n",
    "'''\n",
    "print('origin:', merged2, sep='\\n')\n",
    "merged2.id = merged2.id.map(lambda x: x.replace('X','Y'))\n",
    "merged2['id2'] = merged2.id.map(lambda x: x.replace('Y','X'))\n",
    "print('after map:', merged2, sep='\\n')\n",
    "merged2['selected'] = merged2.apply(lambda x:\n",
    "                                    (x._merge=='both')&\n",
    "                                    (x.order>11), axis=1)\n",
    "print('after apply:', merged2, sep='\\n')"
   ]
  },
  {
   "cell_type": "code",
   "execution_count": 45,
   "metadata": {},
   "outputs": [
    {
     "name": "stdout",
     "output_type": "stream",
     "text": [
      "grouped1:\n",
      "   selected  order\n",
      "0     False   10.5\n",
      "1      True   12.5\n",
      "grouped2:\n",
      "   selected      _merge  order\n",
      "0     False   left_only    NaN\n",
      "1     False  right_only    NaN\n",
      "2     False        both   10.5\n",
      "3      True   left_only    NaN\n",
      "4      True  right_only    NaN\n",
      "5      True        both   12.5\n",
      "grouped3:\n",
      "   selected      _merge     order\n",
      "0     False   left_only       NaN\n",
      "1     False  right_only       NaN\n",
      "2     False        both  0.456522\n",
      "3      True   left_only       NaN\n",
      "4      True  right_only       NaN\n",
      "5      True        both  0.543478\n",
      "(False, 'right_only')\n",
      "(False, 'both')\n",
      "(True, 'both')\n"
     ]
    }
   ],
   "source": [
    "'''\n",
    "groupby: 針對不同群引用 function\n",
    "計算不同群的平均值、百分比\n",
    "'''\n",
    "grouped1 = merged2.groupby(['selected']).order.mean().reset_index()\n",
    "print('grouped1:', grouped1, sep='\\n')\n",
    "grouped2 = merged2.groupby(['selected','_merge']).order.mean().reset_index()\n",
    "print('grouped2:', grouped2, sep='\\n')\n",
    "grouped3 = merged2.groupby(['selected','_merge']).order.sum().groupby(level=[1]).apply(lambda x:x/x.sum()).reset_index()\n",
    "print('grouped3:', grouped3, sep='\\n')\n",
    "groupby_action = merged2.groupby(['selected','_merge'])\n",
    "for key, group in groupby_action:\n",
    "    print(key)"
   ]
  },
  {
   "cell_type": "code",
   "execution_count": 2,
   "metadata": {},
   "outputs": [
    {
     "name": "stdout",
     "output_type": "stream",
     "text": [
      "C:\\Users\\USER\\Anaconda3\\lib\\site-packages\\matplotlib\\mpl-data\\matplotlibrc\n",
      "C:\\Users\\USER\\.matplotlib\n",
      "{'Microsoft New Tai Lue', 'Microsoft Tai Le', 'Microsoft PhagsPa', 'Copperplate Gothic Bold', 'Courier New', 'Monotype Corsiva', 'Tw Cen MT Condensed Extra Bold', 'Book Antiqua', 'cmsy10', 'Forte', 'Algerian', 'Playbill', 'Eras Medium ITC', 'Felix Titling', 'Wingdings', 'Britannic Bold', 'Garamond', 'MS Outlook', 'Goudy Old Style', 'Script MT Bold', 'MS Reference Specialty', 'Pristina', 'Lucida Bright', 'Marlett', 'Cooper Black', 'Franklin Gothic Medium', 'Perpetua Titling MT', 'Tempus Sans ITC', 'STIXNonUnicode', 'Lucida Sans', 'Franklin Gothic Demi Cond', 'MV Boli', 'Colonna MT', 'Ravie', 'Niagara Solid', 'DejaVu Serif Display', 'Microsoft Sans Serif', 'DejaVu Serif', 'Segoe Print', 'Palace Script MT', 'MT Extra', 'Ink Free', 'cmmi10', 'Informal Roman', 'cmr10', 'cmtt10', 'Franklin Gothic Heavy', 'Parchment', 'Segoe Script', 'Franklin Gothic Medium Cond', 'Lucida Fax', 'Wide Latin', 'Gadugi', 'Sylfaen', 'Lucida Handwriting', 'STIXSizeFourSym', 'CENA', 'Arial Unicode MS', 'Kristen ITC', 'Georgia', 'Footlight MT Light', 'Century Schoolbook', 'Harlow Solid Italic', 'Bodoni MT', 'Baskerville Old Face', 'DejaVu Sans Display', 'Lucida Sans Typewriter', 'Eras Demi ITC', 'Gigi', 'Wingdings 3', 'Freestyle Script', 'High Tower Text', 'Tw Cen MT', 'Verdana', 'Tahoma', 'DejaVu Sans', 'Perpetua', 'Brush Script MT', 'Ebrima', 'Juice ITC', 'DELANEY', 'Wingdings 2', 'Imprint MT Shadow', 'Lucida Calligraphy', 'Bradley Hand ITC', 'Edwardian Script ITC', 'Matura MT Script Capitals', 'Poor Richard', 'Vladimir Script', 'Tw Cen MT Condensed', 'Myanmar Text', 'Rockwell', 'Impact', 'Franklin Gothic Demi', 'Eras Bold ITC', 'Papyrus', 'Rage Italic', 'Chiller', 'Corbel', 'STIXSizeTwoSym', 'Symbol', 'Maiandra GD', 'Arial Rounded MT Bold', 'cmex10', 'Cambria', 'Lucida Sans Unicode', 'STIXSizeFiveSym', 'STIXSizeOneSym', 'DejaVu Sans Mono', 'Franklin Gothic Book', 'Mistral', 'DFKai-SB', 'Stencil', 'Harrington', 'Agency FB', 'Calisto MT', 'Candara', 'Showcard Gothic', 'Berlin Sans FB Demi', 'Viner Hand ITC', 'Leelawadee UI', 'Gill Sans MT Condensed', 'Eras Light ITC', 'Haettenschweiler', 'Bahnschrift', 'Lucida Console', 'Kunstler Script', 'Engravers MT', 'Bookshelf Symbol 7', 'Magneto', 'Old English Text MT', 'Nirmala UI', 'Bookman Old Style', 'OCR A Extended', 'Gill Sans MT Ext Condensed Bold', 'Onyx', 'Segoe UI', 'Rockwell Condensed', 'Segoe MDL2 Assets', 'Castellar', 'Segoe UI Emoji', 'Javanese Text', 'Snap ITC', 'Blackadder ITC', 'Microsoft Himalaya', 'Consolas', 'French Script MT', 'Gloucester MT Extra Condensed', 'Broadway', 'MS Reference Sans Serif', 'Webdings', 'Constantia', 'Palatino Linotype', 'Modern No. 20', 'Trebuchet MS', 'STIXGeneral', 'cmb10', 'Segoe UI Symbol', 'Times New Roman', 'Malgun Gothic', 'Century', 'Rockwell Extra Bold', 'Californian FB', 'Calibri', 'Copperplate Gothic Light', 'Bauhaus 93', 'Jokerman', 'SimSun-ExtB', 'STIXSizeThreeSym', 'Century Gothic', 'Centaur', 'BRAZIL', 'Gabriola', 'Elephant', 'Goudy Stout', 'Niagara Engraved', 'Gill Sans Ultra Bold', 'Arial', 'Gill Sans Ultra Bold Condensed', 'cmss10', 'Comic Sans MS', 'Berlin Sans FB', 'Segoe UI Historic', 'HoloLens MDL2 Assets', 'Curlz MT', 'Vivaldi', 'Bernard MT Condensed', 'Microsoft Yi Baiti', 'Bell MT', 'Gill Sans MT', 'Mongolian Baiti'}\n"
     ]
    }
   ],
   "source": [
    "'''\n",
    "matplotlib 中文顯示處理：\n",
    "https://github.com/yuning-lin/AboutPython/blob/main/Visualization/Visualization.md#matplotlib-%E9%A1%AF%E7%A4%BA%E4%B8%AD%E6%96%87\n",
    "'''\n",
    "import matplotlib\n",
    "from matplotlib import font_manager\n",
    "\n",
    "print(matplotlib.matplotlib_fname()) # 找到儲存 matplotlibrc 設定檔的位置\n",
    "print(matplotlib.get_cachedir()) # 找到暫存 cache 位置\n",
    "\n",
    "font_set = {f.name for f in font_manager.fontManager.ttflist} # 有被讀入的 ttf\n",
    "print(font_set)"
   ]
  },
  {
   "cell_type": "code",
   "execution_count": 7,
   "metadata": {},
   "outputs": [
    {
     "data": {
      "text/plain": [
       "Text(0.5,0,'姓名')"
      ]
     },
     "execution_count": 7,
     "metadata": {},
     "output_type": "execute_result"
    },
    {
     "data": {
      "image/png": "[encoded data removed]",
      "text/plain": [
       "<Figure size 432x288 with 1 Axes>"
      ]
     },
     "metadata": {},
     "output_type": "display_data"
    }
   ],
   "source": [
    "'''\n",
    "random 生成亂數\n",
    "pandas 簡易畫圖\n",
    "'''\n",
    "from random import randint\n",
    "\n",
    "plt.rcParams['font.family']='sans-serif' \n",
    "plt.rcParams['font.sans-serif']=['Arial']\n",
    "plt.rcParams['axes.unicode_minus'] = False\n",
    "\n",
    "data = [[randint(70, 90) for i in range(5)],\n",
    "        [randint(80, 99) for i in range(5)],\n",
    "        [randint(50, 70) for i in range(5)]]\n",
    "col = list('國英數社自')\n",
    "idx = list('陳王林')\n",
    "df = pd.DataFrame(data, columns=col, index=idx)\n",
    "df.plot(kind='bar', title=u'成績單', fontsize=15)\n",
    "plt.xlabel(u\"姓名\", fontproperties='Tw Cen MT')"
   ]
  },
  {
   "cell_type": "code",
   "execution_count": null,
   "metadata": {},
   "outputs": [],
   "source": []
  }
 ],
 "metadata": {
  "kernelspec": {
   "display_name": "Python 3",
   "language": "python",
   "name": "python3"
  },
  "language_info": {
   "codemirror_mode": {
    "name": "ipython",
    "version": 3
   },
   "file_extension": ".py",
   "mimetype": "text/x-python",
   "name": "python",
   "nbconvert_exporter": "python",
   "pygments_lexer": "ipython3",
   "version": "3.6.6"
  }
 },
 "nbformat": 4,
 "nbformat_minor": 4
}
