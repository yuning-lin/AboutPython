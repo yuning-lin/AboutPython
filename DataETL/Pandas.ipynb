{
 "cells": [
  {
   "cell_type": "code",
   "execution_count": 51,
   "metadata": {},
   "outputs": [],
   "source": [
    "import pandas as pd\n",
    "import xlrd # for xlsx\n",
    "import openpyxl # for xlsx\n",
    "import matplotlib.pyplot as plt\n",
    "\n",
    "\n",
    "'''\n",
    "開放資料來源：\n",
    "xlsx：https://www.stats.govt.nz/assets/Reports/Global-New-Zealand/Global-New-Zealand-year-ended-June-2017/global-nz-jun-2017-tables-0.xlsx\n",
    "csv：https://www.stats.govt.nz/assets/Uploads/Annual-enterprise-survey/Annual-enterprise-survey-2019-financial-year-provisional/Download-data/annual-enterprise-survey-2019-financial-year-provisional-csv.csv\n",
    "'''\n",
    "\n",
    "\n",
    "# 指定 pandas dataframe 在 console 秀出的大小\n",
    "pd.set_option('display.max_rows', 50)\n",
    "pd.set_option('display.max_columns', 50)\n",
    "pd.set_option('display.width', 100)"
   ]
  },
  {
   "cell_type": "code",
   "execution_count": 6,
   "metadata": {},
   "outputs": [
    {
     "name": "stdout",
     "output_type": "stream",
     "text": [
      "瀏覽資料：\n",
      "   Year Industry_aggregation_NZSIOC Industry_code_NZSIOC Industry_name_NZSIOC               Units  \\\n",
      "0  2019                     Level 1                99999       All industries  Dollars (millions)   \n",
      "1  2019                     Level 1                99999       All industries  Dollars (millions)   \n",
      "2  2019                     Level 1                99999       All industries  Dollars (millions)   \n",
      "3  2019                     Level 1                99999       All industries  Dollars (millions)   \n",
      "4  2019                     Level 1                99999       All industries  Dollars (millions)   \n",
      "\n",
      "  Variable_code                                    Variable_name      Variable_category    Value  \\\n",
      "0           H01                                     Total income  Financial performance  728,239   \n",
      "1           H04  Sales, government funding, grants and subsidies  Financial performance  643,809   \n",
      "2           H05                Interest, dividends and donations  Financial performance   62,924   \n",
      "3           H07                             Non-operating income  Financial performance   21,505   \n",
      "4           H08                                Total expenditure  Financial performance  634,710   \n",
      "\n",
      "                              Industry_code_ANZSIC06  \n",
      "0  ANZSIC06 divisions A-S (excluding classes K633...  \n",
      "1  ANZSIC06 divisions A-S (excluding classes K633...  \n",
      "2  ANZSIC06 divisions A-S (excluding classes K633...  \n",
      "3  ANZSIC06 divisions A-S (excluding classes K633...  \n",
      "4  ANZSIC06 divisions A-S (excluding classes K633...  \n",
      "概覽欄位：\n",
      "Index(['Year', 'Industry_aggregation_NZSIOC', 'Industry_code_NZSIOC', 'Industry_name_NZSIOC',\n",
      "       'Units', 'Variable_code', 'Variable_name', 'Variable_category', 'Value',\n",
      "       'Industry_code_ANZSIC06'],\n",
      "      dtype='object')\n",
      "概覽變大寫的欄位：\n",
      "Index(['YEAR', 'INDUSTRY_AGGREGATION_NZSIOC', 'INDUSTRY_CODE_NZSIOC', 'INDUSTRY_NAME_NZSIOC',\n",
      "       'UNITS', 'VARIABLE_CODE', 'VARIABLE_NAME', 'VARIABLE_CATEGORY', 'VALUE',\n",
      "       'INDUSTRY_CODE_ANZSIC06'],\n",
      "      dtype='object')\n"
     ]
    }
   ],
   "source": [
    "'''\n",
    "read_csv:根據檔案下載處記錄下路徑，讀取 csv 檔\n",
    "印出前五列以及所有欄位名稱\n",
    "將欄位名稱改成全大寫\n",
    "'''\n",
    "csv_file_path = './annual-enterprise-survey-2019-financial-year-provisional-csv.csv'\n",
    "csv_data = pd.read_csv(csv_file_path)\n",
    "print('瀏覽資料：',csv_data.head(), sep='\\n')\n",
    "print('概覽欄位：',csv_data.columns, sep='\\n')\n",
    "rename_dict = dict(zip(csv_data.columns,csv_data.columns.str.upper()))\n",
    "csv_data = csv_data.rename(columns=rename_dict)\n",
    "print('概覽變大寫的欄位：',csv_data.columns, sep='\\n')"
   ]
  },
  {
   "cell_type": "code",
   "execution_count": 8,
   "metadata": {},
   "outputs": [
    {
     "name": "stdout",
     "output_type": "stream",
     "text": [
      "印出所有 sheet：\n",
      "dict_keys(['Title page', '0.1', '0.2', '0.3', '0.4'])\n",
      "概覽 sheet=01：\n",
      "                             Table 0.1                Unnamed: 1  Unnamed: 2    Unnamed: 3  \\\n",
      "0            New Zealand total exports                       NaN         NaN           NaN   \n",
      "1                 By top 30 categories                       NaN         NaN           NaN   \n",
      "2                           June years                       NaN         NaN           NaN   \n",
      "3                  Commodity / service  Exports NZ$(million) fob         NaN           NaN   \n",
      "4                                  NaN                      2016  % of total   2017.000000   \n",
      "5                                  NaN                       NaN         NaN           NaN   \n",
      "6     Milk powder, butter, and cheese                    11162.2     15.7507  12506.474447   \n",
      "7  Travel: business and other personal                     10264     14.4833  10238.000000   \n",
      "8               Meat and edible offal                       6602     9.31593   6048.094580   \n",
      "9        Logs, wood, and wood articles                    3823.3     5.39497   4223.467207   \n",
      "\n",
      "   Unnamed: 4  \n",
      "0         NaN  \n",
      "1         NaN  \n",
      "2         NaN  \n",
      "3         NaN  \n",
      "4  % of total  \n",
      "5         NaN  \n",
      "6     17.4142  \n",
      "7     14.2556  \n",
      "8     8.42148  \n",
      "9     5.88083  \n"
     ]
    }
   ],
   "source": [
    "'''\n",
    "read_excel:讀 xlsx, xls 檔皆可以用  read_excel\n",
    "當 sheet_name=None 時，用字典存取各個 sheet\n",
    "呼叫指定 sheet 需用 sheet 名作為 key\n",
    "'''\n",
    "xlsx_file_path = './global-nz-jun-2017-tables-0.xlsx'\n",
    "xlsx_data = pd.read_excel(xlsx_file_path, sheet_name=None)\n",
    "print('印出所有 sheet：',xlsx_data.keys(), sep='\\n')\n",
    "table01 = xlsx_data['0.1']\n",
    "print('概覽 sheet=01：', table01.head(10), sep='\\n')"
   ]
  },
  {
   "cell_type": "code",
   "execution_count": 34,
   "metadata": {},
   "outputs": [
    {
     "name": "stdout",
     "output_type": "stream",
     "text": [
      "概覽 sheet=01 其 3,4,5 列作為欄位名稱：\n",
      "  June years_Commodity / service_Unnamed: 0_level_2  June years_Exports NZ$(million) fob_2016  \\\n",
      "0                  Milk powder, butter, and cheese                               11162.150792   \n",
      "1               Travel: business and other personal                              10264.000000   \n",
      "2                            Meat and edible offal                                6602.001849   \n",
      "3                     Logs, wood, and wood articles                               3823.299758   \n",
      "4               Travel: personal: education related                               3472.000000   \n",
      "\n",
      "   June years_Exports NZ$(million) fob_% of total  June years_Exports NZ$(million) fob_2017  \\\n",
      "0                                       15.750652                              12506.474447   \n",
      "1                                       14.483292                              10238.000000   \n",
      "2                                        9.315932                               6048.094580   \n",
      "3                                        5.394970                               4223.467207   \n",
      "4                                        4.899259                               3649.000000   \n",
      "\n",
      "   June years_Exports NZ$(million) fob_% of total.1  \n",
      "0                                         17.414246  \n",
      "1                                         14.255580  \n",
      "2                                          8.421478  \n",
      "3                                          5.880834  \n",
      "4                                          5.080935  \n"
     ]
    }
   ],
   "source": [
    "'''\n",
    "read_excel:讀取單一 sheet，並指定 3,4,5 列作為欄位名稱\n",
    "且合併多列成單一欄位\n",
    "'''\n",
    "xlsx_data = pd.read_excel(xlsx_file_path, sheet_name='0.1', header=[3,4,5])\n",
    "# xlsx_data.columns = xlsx_data.columns.map('_'.join) # 欄位有數值型態不能使用\n",
    "xlsx_data.columns = xlsx_data.columns.map('{0[0]}_{0[1]}_{0[2]}'.format)\n",
    "print('概覽 sheet=01 其 3,4,5 列作為欄位名稱：', xlsx_data.head(5), sep='\\n')"
   ]
  },
  {
   "cell_type": "code",
   "execution_count": 35,
   "metadata": {},
   "outputs": [
    {
     "name": "stdout",
     "output_type": "stream",
     "text": [
      "A     object\n",
      "B     object\n",
      "C    float64\n",
      "D    float64\n",
      "dtype: object\n"
     ]
    }
   ],
   "source": [
    "'''\n",
    "建立空的 dataframe\n",
    "append:插入新列，印出新列的值域型態\n",
    "'''\n",
    "df = pd.DataFrame()\n",
    "data_dict = {'A':[2,4,6,8], 'B':'even', 'C':4, 'D':3.14}\n",
    "df = df.append(data_dict, ignore_index=True)\n",
    "print(df.dtypes)"
   ]
  },
  {
   "cell_type": "code",
   "execution_count": 37,
   "metadata": {},
   "outputs": [
    {
     "name": "stdout",
     "output_type": "stream",
     "text": [
      "origin:\n",
      "     A    B    C\n",
      "6  NaN  NaN  NaN\n",
      "7  NaN  NaN  NaN\n",
      "8  NaN  NaN  NaN\n",
      "9  NaN  NaN  NaN\n",
      "after insert:\n",
      "      A    B    C\n",
      "6   NaN  NaN  NaN\n",
      "7   NaN  NaN  NaN\n",
      "8   NaN  NaN  NaN\n",
      "9   NaN  NaN  NaN\n",
      "4     2    4    5\n",
      "10    1    3    7\n",
      "11    9  NaN  NaN\n",
      "after append:\n",
      "     A    B    C\n",
      "0  NaN  NaN  NaN\n",
      "1  NaN  NaN  NaN\n",
      "2  NaN  NaN  NaN\n",
      "3  NaN  NaN  NaN\n",
      "4    2    4    5\n",
      "5    1    3    7\n",
      "6    9  NaN  NaN\n",
      "7   20   20   20\n",
      "8  200  200  200\n"
     ]
    }
   ],
   "source": [
    "'''\n",
    "建立有欄位名稱的空 dataframe，並指定索引\n",
    "loc, at:根據索引存入新資料\n",
    "append:接上新的 dataframe\n",
    "reset_index:重新編列索引\n",
    "'''\n",
    "col_names =  ['A', 'B', 'C']\n",
    "df  = pd.DataFrame(columns = col_names, index=range(6,10))\n",
    "print('origin:', df, sep='\\n')\n",
    "df.loc[len(df)] = [2, 4, 5]\n",
    "df.loc[10] = [1,3,7]\n",
    "df.at[11,'A'] = 9\n",
    "print('after insert:', df, sep='\\n')\n",
    "df2 = pd.DataFrame([[20,20,20], [200,200,200]], columns=list('ABC'))\n",
    "df = df.append(df2)\n",
    "df = df.reset_index(drop=True)\n",
    "print('after append:', df, sep='\\n')"
   ]
  },
  {
   "cell_type": "code",
   "execution_count": 39,
   "metadata": {},
   "outputs": [
    {
     "name": "stdout",
     "output_type": "stream",
     "text": [
      "s1:\n",
      "0    X0\n",
      "1    X1\n",
      "2    X2\n",
      "3    X3\n",
      "Name: ID, dtype: object\n",
      "s2:\n",
      "0    0\n",
      "1    1\n",
      "2    2\n",
      "3    3\n",
      "dtype: int64\n",
      "df:\n",
      "   order  id number\n",
      "0     10  X0    one\n",
      "1     11  X1    two\n",
      "2     12  X2  three\n",
      "3     13  X3   four\n",
      "concat_by_row:\n",
      "0    X0\n",
      "1    X1\n",
      "2    X2\n",
      "3    X3\n",
      "0     0\n",
      "1     1\n",
      "2     2\n",
      "3     3\n",
      "dtype: object\n",
      "concat_by_col:\n",
      "   ID  0\n",
      "0  X0  0\n",
      "1  X1  1\n",
      "2  X2  2\n",
      "3  X3  3\n",
      "merged:\n",
      "   order  id number  0\n",
      "0     10  X0    one  0\n",
      "1     11  X1    two  1\n",
      "2     12  X2  three  2\n",
      "3     13  X3   four  3\n",
      "merged2:\n",
      "   order  id number  0      _merge\n",
      "0   10.0  X0    one  0        both\n",
      "1   11.0  X1    two  1        both\n",
      "2   12.0  X2  three  2        both\n",
      "3   13.0  X3   four  3        both\n",
      "4    NaN  X4    NaN  4  right_only\n"
     ]
    }
   ],
   "source": [
    "'''\n",
    "concat:組合 series 成  dataframe\n",
    "merge:根據同樣欄位合成更大的 dataframe\n",
    "drop:丟棄某欄位\n",
    "'''\n",
    "s1 = pd.Series([\"X0\", \"X1\", \"X2\", \"X3\"], name=\"ID\")\n",
    "s2 = pd.Series(range(4))\n",
    "print('s1:', s1, sep='\\n')\n",
    "print('s2:', s2, sep='\\n')\n",
    "data_lst = list(zip(list(range(10,14)),\n",
    "                    [\"X0\", \"X1\", \"X2\", \"X3\"],\n",
    "                    ['one', 'two', 'three', 'four']))\n",
    "df = pd.DataFrame(data_lst, columns=['order','id','number'])\n",
    "print('df:', df, sep='\\n')\n",
    "concat_by_row = pd.concat([s1, s2], axis=0)\n",
    "print('concat_by_row:', concat_by_row, sep='\\n')\n",
    "concat_by_col = pd.concat([s1, s2], axis=1)\n",
    "print('concat_by_col:', concat_by_col, sep='\\n')\n",
    "merged = pd.merge(df, concat_by_col, left_on='id', right_on='ID', how='left')\n",
    "merged = merged.drop(columns=['ID'])\n",
    "print('merged:', merged, sep='\\n')\n",
    "\n",
    "concat_by_col = concat_by_col.rename(columns={'ID':'id'})\n",
    "concat_by_col = concat_by_col.append({'id':'X4',0:4}, ignore_index=True)\n",
    "merged2 = df.merge(concat_by_col, on='id', how='right', indicator=True)\n",
    "print('merged2:', merged2, sep='\\n')"
   ]
  },
  {
   "cell_type": "code",
   "execution_count": 43,
   "metadata": {},
   "outputs": [
    {
     "name": "stdout",
     "output_type": "stream",
     "text": [
      "order is nan:\n",
      "   order  id number  0      _merge\n",
      "4    NaN  X4    NaN  4  right_only\n",
      "order is not nan:\n",
      "   order  id number  0 _merge\n",
      "0   10.0  X0    one  0   both\n",
      "1   11.0  X1    two  1   both\n",
      "2   12.0  X2  three  2   both\n",
      "3   13.0  X3   four  3   both\n",
      "show the _merge is right_only:\n",
      "   order  id number  0      _merge\n",
      "4    NaN  X4    NaN  4  right_only\n",
      "show the two condition:\n",
      "   order  id number  0 _merge\n",
      "2   12.0  X2  three  2   both\n",
      "3   13.0  X3   four  3   both\n",
      "show the two condition with isin:\n",
      "   order  id number  0 _merge\n",
      "0   10.0  X0    one  0   both\n",
      "1   11.0  X1    two  1   both\n"
     ]
    }
   ],
   "source": [
    "'''\n",
    "isna:過濾出 dataframe 某欄位為空值的列\n",
    "isin:過濾出 dataframe 某欄位存在指定值的列\n",
    "邏輯運算子：過濾出某欄位特定值的列\n",
    "'''\n",
    "print('order is nan:', merged2[merged2.order.isna()], sep='\\n')\n",
    "print('order is not nan:',merged2[~merged2.order.isna()], sep='\\n')\n",
    "print('show the _merge is right_only:',merged2[merged2._merge=='right_only'], sep='\\n')\n",
    "print('show the two condition:',merged2[(merged2._merge=='both')&(merged2.order>11)], sep='\\n')\n",
    "print('show the two condition with isin:',merged2[(merged2._merge=='both')&(merged2.number.isin(['one','two']))], sep='\\n')"
   ]
  },
  {
   "cell_type": "code",
   "execution_count": 44,
   "metadata": {},
   "outputs": [
    {
     "name": "stdout",
     "output_type": "stream",
     "text": [
      "origin:\n",
      "   order  id number  0      _merge\n",
      "0   10.0  X0    one  0        both\n",
      "1   11.0  X1    two  1        both\n",
      "2   12.0  X2  three  2        both\n",
      "3   13.0  X3   four  3        both\n",
      "4    NaN  X4    NaN  4  right_only\n",
      "after map:\n",
      "   order  id number  0      _merge id2\n",
      "0   10.0  Y0    one  0        both  X0\n",
      "1   11.0  Y1    two  1        both  X1\n",
      "2   12.0  Y2  three  2        both  X2\n",
      "3   13.0  Y3   four  3        both  X3\n",
      "4    NaN  Y4    NaN  4  right_only  X4\n",
      "after apply:\n",
      "   order  id number  0      _merge id2  selected\n",
      "0   10.0  Y0    one  0        both  X0     False\n",
      "1   11.0  Y1    two  1        both  X1     False\n",
      "2   12.0  Y2  three  2        both  X2      True\n",
      "3   13.0  Y3   four  3        both  X3      True\n",
      "4    NaN  Y4    NaN  4  right_only  X4     False\n"
     ]
    }
   ],
   "source": [
    "'''\n",
    "map: 指定欄位引用 function\n",
    "apply: 多欄位引用 function \n",
    "'''\n",
    "print('origin:', merged2, sep='\\n')\n",
    "merged2.id = merged2.id.map(lambda x: x.replace('X','Y'))\n",
    "merged2['id2'] = merged2.id.map(lambda x: x.replace('Y','X'))\n",
    "print('after map:', merged2, sep='\\n')\n",
    "merged2['selected'] = merged2.apply(lambda x:\n",
    "                                    (x._merge=='both')&\n",
    "                                    (x.order>11), axis=1)\n",
    "print('after apply:', merged2, sep='\\n')"
   ]
  },
  {
   "cell_type": "code",
   "execution_count": 45,
   "metadata": {},
   "outputs": [
    {
     "name": "stdout",
     "output_type": "stream",
     "text": [
      "grouped1:\n",
      "   selected  order\n",
      "0     False   10.5\n",
      "1      True   12.5\n",
      "grouped2:\n",
      "   selected      _merge  order\n",
      "0     False   left_only    NaN\n",
      "1     False  right_only    NaN\n",
      "2     False        both   10.5\n",
      "3      True   left_only    NaN\n",
      "4      True  right_only    NaN\n",
      "5      True        both   12.5\n",
      "grouped3:\n",
      "   selected      _merge     order\n",
      "0     False   left_only       NaN\n",
      "1     False  right_only       NaN\n",
      "2     False        both  0.456522\n",
      "3      True   left_only       NaN\n",
      "4      True  right_only       NaN\n",
      "5      True        both  0.543478\n",
      "(False, 'right_only')\n",
      "(False, 'both')\n",
      "(True, 'both')\n"
     ]
    }
   ],
   "source": [
    "'''\n",
    "groupby: 針對不同群引用 function\n",
    "計算不同群的平均值、百分比\n",
    "'''\n",
    "grouped1 = merged2.groupby(['selected']).order.mean().reset_index()\n",
    "print('grouped1:', grouped1, sep='\\n')\n",
    "grouped2 = merged2.groupby(['selected','_merge']).order.mean().reset_index()\n",
    "print('grouped2:', grouped2, sep='\\n')\n",
    "grouped3 = merged2.groupby(['selected','_merge']).order.sum().groupby(level=[1]).apply(lambda x:x/x.sum()).reset_index()\n",
    "print('grouped3:', grouped3, sep='\\n')\n",
    "groupby_action = merged2.groupby(['selected','_merge'])\n",
    "for key, group in groupby_action:\n",
    "    print(key)"
   ]
  },
  {
   "cell_type": "code",
   "execution_count": 79,
   "metadata": {},
   "outputs": [
    {
     "name": "stdout",
     "output_type": "stream",
     "text": [
      "/home/project-failure_rate/.config/matplotlib/matplotlibrc\n"
     ]
    }
   ],
   "source": [
    "'''\n",
    "matplotlib 中文顯示處理：\n",
    "https://github.com/yuning-lin/AboutPython/blob/main/Visualization/Visualization.md\n"
    "\n"
   ]
  },
  {
   "cell_type": "code",
   "execution_count": 80,
   "metadata": {},
   "outputs": [
    {
     "data": {
      "text/plain": [
       "<matplotlib.axes._subplots.AxesSubplot at 0x7f576b6cfcc0>"
      ]
     },
     "execution_count": 80,
     "metadata": {},
     "output_type": "execute_result"
    },
    {
     "data": {
      "image/png": "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\n",
      "text/plain": [
       "<Figure size 432x288 with 1 Axes>"
      ]
     },
     "metadata": {
      "needs_background": "light"
     },
     "output_type": "display_data"
    }
   ],
   "source": [
    "'''\n",
    "random 生成亂數\n",
    "pandas 簡易畫圖\n",
    "'''\n",
    "from random import randint\n",
    "\n",
    "plt.rcParams['font.sans-serif']=['SimHei'] #顯示中文標籤\n",
    "plt.rcParams['axes.unicode_minus']=False #顯示負號\n",
    "\n",
    "data = [[randint(70, 90) for i in range(5)],\n",
    "        [randint(80, 99) for i in range(5)],\n",
    "        [randint(50, 70) for i in range(5)]]\n",
    "col = list('國英數社自')\n",
    "idx = list('陳王林')\n",
    "df = pd.DataFrame(data, columns=col, index=idx)\n",
    "df.plot(kind='bar', title=u'成績單', fontsize=15)\n"
   ]
  },
  {
   "cell_type": "code",
   "execution_count": null,
   "metadata": {},
   "outputs": [],
   "source": []
  }
 ],
 "metadata": {
  "kernelspec": {
   "display_name": "Python 3",
   "language": "python",
   "name": "python3"
  },
  "language_info": {
   "codemirror_mode": {
    "name": "ipython",
    "version": 3
   },
   "file_extension": ".py",
   "mimetype": "text/x-python",
   "name": "python",
   "nbconvert_exporter": "python",
   "pygments_lexer": "ipython3",
   "version": "3.6.9"
  }
 },
 "nbformat": 4,
 "nbformat_minor": 4
}
