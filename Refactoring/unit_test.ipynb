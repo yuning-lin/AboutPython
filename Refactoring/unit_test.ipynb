{
 "cells": [
  {
   "cell_type": "markdown",
   "id": "efde6c77",
   "metadata": {},
   "source": [
    "## 簡介\n",
    "單元測試（unit test）：測試工作單元行為是否符合預期  \n",
    "基本上單元間須互相獨立，才能明確知道該單元的正確性  \n",
    "通常指的是藉由給予某函數／方法輸入值，測試函式輸出是否符合預期  \n",
    "\n",
    "## unittest 模組內容\n",
    "主要為四部分：\n",
    "* test fixture：測試前的準備、清理工作\n",
    "* test case：獨立的測試單位\n",
    "* test suite：一個或多個 test case，甚至是多個 test suite 的集合，匯集應一起被執行的測試\n",
    "* test runner：編排測試的執行及提供結果\n",
    "\n",
    "## 函數用法\n",
    "常見做法為，應一起被執行的測試包在同一個 class 裡  \n",
    "* setUp：測試前需執行的動作，在範例裡是取得資料\n",
    "* tearDown：測試後需執行的動作，在範例沒有動作\n",
    "* test_function：所有要拿來做測試的函數／方法都須以 test 開頭做命名，在範例有 test_multiplier、test_remainder\n",
    "* 測試執行器：用來執行所有測試，以下示範三種方法\n",
    "\n",
    "## 參考資源\n",
    "* [python 官方：unittest — Unit testing framework](https://docs.python.org/zh-tw/3/library/unittest.html)\n",
    "* [部落格教學：Python 的單元測試工具 —— unittest 小結](https://www.jianshu.com/p/e50d8f810eab)\n",
    "* [部落格教學：unittest-單元測試框架](https://www.docs4dev.com/docs/zh/python/2.7.15/all/library-unittest.html)"
   ]
  },
  {
   "cell_type": "code",
   "execution_count": 11,
   "id": "e7be2591",
   "metadata": {},
   "outputs": [],
   "source": [
    "'''\n",
    "測試執行器：法一\n",
    "透過 unittest.main() 函式來執行\n",
    "將程式儲存於 unittest_calculator.py\n",
    "利用 terminal：python3.6 unittest_calculator.py 執行\n",
    "'''\n",
    "import unittest\n",
    "import numpy as np\n",
    "\n",
    "class GetData:\n",
    "    def modifing(self, a, b):\n",
    "        return (int(a), int(b))\n",
    "\n",
    "class CalculatorTestCase(unittest.TestCase):\n",
    "    def setUp(self):\n",
    "        self.data = GetData().modifing(2,5)\n",
    "\n",
    "    def tearDown(self):\n",
    "        self.args = None\n",
    "    \n",
    "    def test_multiplier(self):\n",
    "        mul = 10\n",
    "        res = np.multiply(*self.data)\n",
    "        self.assertEqual(mul, res)\n",
    "\n",
    "    def test_remainder(self):\n",
    "        rem = 0\n",
    "        res = np.remainder(*self.data)\n",
    "        self.assertEqual(rem, res)\n",
    "\n",
    "if __name__ == '__main__':\n",
    "    unittest.main()"
   ]
  },
  {
   "cell_type": "code",
   "execution_count": 2,
   "id": "53033494",
   "metadata": {},
   "outputs": [
    {
     "name": "stderr",
     "output_type": "stream",
     "text": [
      "test_multiplier (__main__.CalculatorTestCase) ... ok\n",
      "test_remainder (__main__.CalculatorTestCase) ... FAIL\n",
      "\n",
      "======================================================================\n",
      "FAIL: test_remainder (__main__.CalculatorTestCase)\n",
      "----------------------------------------------------------------------\n",
      "Traceback (most recent call last):\n",
      "  File \"C:\\Users\\ning_lin\\AppData\\Local\\Temp/ipykernel_19340/651561606.py\", line 28, in test_remainder\n",
      "    self.assertEqual(rem, res)\n",
      "AssertionError: 0 != 2\n",
      "\n",
      "----------------------------------------------------------------------\n",
      "Ran 2 tests in 0.004s\n",
      "\n",
      "FAILED (failures=1)\n"
     ]
    },
    {
     "data": {
      "text/plain": [
       "<unittest.runner.TextTestResult run=2 errors=0 failures=1>"
      ]
     },
     "execution_count": 2,
     "metadata": {},
     "output_type": "execute_result"
    }
   ],
   "source": [
    "'''\n",
    "測試執行器：法二\n",
    "根據需求逐一添加欲測試的項目\n",
    "也可以是不同 class 的方法打包在同一個 suite 裡\n",
    "'''\n",
    "import unittest\n",
    "import numpy as np\n",
    "\n",
    "class GetData:\n",
    "    def modifing(self, a, b):\n",
    "        return (int(a), int(b))\n",
    "\n",
    "class CalculatorTestCase(unittest.TestCase):\n",
    "    def setUp(self):\n",
    "        self.data = GetData().modifing(2,5)\n",
    "\n",
    "    def tearDown(self):\n",
    "        self.args = None\n",
    "    \n",
    "    def test_multiplier(self):\n",
    "        mul = 10\n",
    "        res = np.multiply(*self.data)\n",
    "        self.assertEqual(mul, res)\n",
    "\n",
    "    def test_remainder(self):\n",
    "        rem = 0\n",
    "        res = np.remainder(*self.data)\n",
    "        self.assertEqual(rem, res)\n",
    "\n",
    "suite = unittest.TestSuite()\n",
    "suite.addTest(CalculatorTestCase('test_multiplier'))\n",
    "suite.addTest(CalculatorTestCase('test_remainder'))\n",
    "unittest.TextTestRunner(verbosity=2).run(suite)"
   ]
  },
  {
   "cell_type": "code",
   "execution_count": 3,
   "id": "1d97f61a",
   "metadata": {},
   "outputs": [
    {
     "name": "stderr",
     "output_type": "stream",
     "text": [
      "test_multiplier (__main__.CalculatorTestCase) ... ok\n",
      "test_remainder (__main__.CalculatorTestCase) ... FAIL\n",
      "\n",
      "======================================================================\n",
      "FAIL: test_remainder (__main__.CalculatorTestCase)\n",
      "----------------------------------------------------------------------\n",
      "Traceback (most recent call last):\n",
      "  File \"C:\\Users\\ning_lin\\AppData\\Local\\Temp/ipykernel_19340/2725966802.py\", line 27, in test_remainder\n",
      "    self.assertEqual(rem, res)\n",
      "AssertionError: 0 != 2\n",
      "\n",
      "----------------------------------------------------------------------\n",
      "Ran 2 tests in 0.004s\n",
      "\n",
      "FAILED (failures=1)\n"
     ]
    },
    {
     "data": {
      "text/plain": [
       "<unittest.runner.TextTestResult run=2 errors=0 failures=1>"
      ]
     },
     "execution_count": 3,
     "metadata": {},
     "output_type": "execute_result"
    }
   ],
   "source": [
    "'''\n",
    "測試執行器：法三\n",
    "自動載入所有 CalculatorTestCase 內所有測試\n",
    "'''\n",
    "import unittest\n",
    "import numpy as np\n",
    "\n",
    "class GetData:\n",
    "    def modifing(self, a, b):\n",
    "        return (int(a), int(b))\n",
    "\n",
    "class CalculatorTestCase(unittest.TestCase):\n",
    "    def setUp(self):\n",
    "        self.data = GetData().modifing(2,5)\n",
    "\n",
    "    def tearDown(self):\n",
    "        self.args = None\n",
    "    \n",
    "    def test_multiplier(self):\n",
    "        mul = 10\n",
    "        res = np.multiply(*self.data)\n",
    "        self.assertEqual(mul, res)\n",
    "\n",
    "    def test_remainder(self):\n",
    "        rem = 0\n",
    "        res = np.remainder(*self.data)\n",
    "        self.assertEqual(rem, res)\n",
    "\n",
    "suite = unittest.TestLoader().loadTestsFromTestCase(CalculatorTestCase)\n",
    "unittest.TextTestRunner(verbosity=2).run(suite)"
   ]
  },
  {
   "cell_type": "code",
   "execution_count": 25,
   "id": "a744c994",
   "metadata": {},
   "outputs": [
    {
     "name": "stderr",
     "output_type": "stream",
     "text": [
      "test_multiplier (__main__.CalculatorTestCase) ... ok\n",
      "test_remainder (__main__.CalculatorTestCase) ... "
     ]
    },
    {
     "name": "stdout",
     "output_type": "stream",
     "text": [
      "ID: __main__.CalculatorTestCase.test_remainder\n",
      "FAILURE REASON: Traceback (most recent call last):\n",
      "  File \"C:\\Users\\ning_lin\\AppData\\Local\\Temp/ipykernel_17224/2243965385.py\", line 27, in test_remainder\n",
      "    self.assertEqual(rem, res)\n",
      "AssertionError: 0 != 2\n",
      "\n"
     ]
    },
    {
     "name": "stderr",
     "output_type": "stream",
     "text": [
      "FAIL\n",
      "\n",
      "======================================================================\n",
      "FAIL: test_remainder (__main__.CalculatorTestCase)\n",
      "----------------------------------------------------------------------\n",
      "Traceback (most recent call last):\n",
      "  File \"C:\\Users\\ning_lin\\AppData\\Local\\Temp/ipykernel_17224/2243965385.py\", line 27, in test_remainder\n",
      "    self.assertEqual(rem, res)\n",
      "AssertionError: 0 != 2\n",
      "\n",
      "----------------------------------------------------------------------\n",
      "Ran 2 tests in 0.003s\n",
      "\n",
      "FAILED (failures=1)\n"
     ]
    }
   ],
   "source": [
    "'''\n",
    "全部測試結束後，個別取出每個測試的結果\n",
    "'''\n",
    "import unittest\n",
    "import numpy as np\n",
    "import sys\n",
    "\n",
    "PY = tuple(sys.version_info)[:3]\n",
    "\n",
    "class GetData:\n",
    "    def modifing(self, a, b):\n",
    "        return (int(a), int(b))\n",
    "\n",
    "class CalculatorTestCase(unittest.TestCase):\n",
    "\n",
    "    def setUp(self):\n",
    "        self.data = GetData().modifing(2,5)\n",
    "    \n",
    "    def test_multiplier(self):\n",
    "        mul = 10\n",
    "        res = np.multiply(*self.data)\n",
    "        self.assertEqual(mul, res)\n",
    "\n",
    "    def test_remainder(self):\n",
    "        rem = 0\n",
    "        res = np.remainder(*self.data)\n",
    "        self.assertEqual(rem, res)\n",
    "\n",
    "suite = unittest.TestLoader().loadTestsFromTestCase(CalculatorTestCase)\n",
    "result = unittest.TextTestRunner(verbosity=2).run(suite)\n",
    "for case, reason in result.failures:\n",
    "    print('ID:',case.id())\n",
    "    print('FAILURE REASON:',reason)\n",
    "for case, reason in result.errors:\n",
    "    print('ID:',case.id())\n",
    "    print('ERROR REASON:',reason)"
   ]
  },
  {
   "cell_type": "code",
   "execution_count": 27,
   "id": "780a5533",
   "metadata": {},
   "outputs": [
    {
     "name": "stderr",
     "output_type": "stream",
     "text": [
      "test_multiplier (__main__.CalculatorTestCase) ... ok\n",
      "test_remainder (__main__.CalculatorTestCase) ... "
     ]
    },
    {
     "name": "stdout",
     "output_type": "stream",
     "text": [
      "\n",
      "FAIL: __main__.CalculatorTestCase.test_remainder\n",
      "     AssertionError: 0 != 2\n"
     ]
    },
    {
     "name": "stderr",
     "output_type": "stream",
     "text": [
      "FAIL\n",
      "\n",
      "======================================================================\n",
      "FAIL: test_remainder (__main__.CalculatorTestCase)\n",
      "----------------------------------------------------------------------\n",
      "Traceback (most recent call last):\n",
      "  File \"C:\\Users\\ning_lin\\AppData\\Local\\Temp/ipykernel_17224/2940027832.py\", line 48, in test_remainder\n",
      "    self.assertEqual(rem, res)\n",
      "AssertionError: 0 != 2\n",
      "\n",
      "----------------------------------------------------------------------\n",
      "Ran 2 tests in 0.004s\n",
      "\n",
      "FAILED (failures=1)\n"
     ]
    }
   ],
   "source": [
    "'''\n",
    "用 tearDown 獲取每個測試結果\n",
    "並且有 error or failure 才印出\n",
    "'''\n",
    "import unittest\n",
    "import numpy as np\n",
    "import sys\n",
    "\n",
    "PY = tuple(sys.version_info)[:3]\n",
    "\n",
    "class GetData:\n",
    "    def modifing(self, a, b):\n",
    "        return (int(a), int(b))\n",
    "\n",
    "class CalculatorTestCase(unittest.TestCase):\n",
    "\n",
    "    def setUp(self):\n",
    "        self.data = GetData().modifing(2,5)\n",
    "\n",
    "    def tearDown(self):\n",
    "        if hasattr(self, '_outcome'):  # Python 3.4+\n",
    "            result = self.defaultTestResult()  # These two methods have no side effects\n",
    "            self._feedErrorsToResult(result, self._outcome.errors)\n",
    "        else:  # Python 3.2 - 3.3 or 3.0 - 3.1 and 2.7\n",
    "            result = getattr(self, '_outcomeForDoCleanups', self._resultForDoCleanups)\n",
    "        error = self.list2reason(result.errors)\n",
    "        failure = self.list2reason(result.failures)\n",
    "        ok = not error and not failure\n",
    "\n",
    "        # report short info immediately or save it in log\n",
    "        if not ok:\n",
    "            typ, text = ('ERROR', error) if error else ('FAIL', failure)\n",
    "            msg = [x for x in text.split('\\n')[1:] if not x.startswith(' ')][0]\n",
    "            print(\"\\n%s: %s\\n     %s\" % (typ, self.id(), msg))\n",
    "\n",
    "    def list2reason(self, exc_list):\n",
    "        if exc_list and exc_list[-1][0] is self:\n",
    "            return exc_list[-1][1]\n",
    "    \n",
    "    def test_multiplier(self):\n",
    "        mul = 10\n",
    "        res = np.multiply(*self.data)\n",
    "        self.assertEqual(mul, res)\n",
    "\n",
    "    def test_remainder(self):\n",
    "        rem = 0\n",
    "        res = np.remainder(*self.data)\n",
    "        self.assertEqual(rem, res)\n",
    "\n",
    "suite = unittest.TestLoader().loadTestsFromTestCase(CalculatorTestCase)\n",
    "result = unittest.TextTestRunner(verbosity=2).run(suite)"
   ]
  },
  {
   "cell_type": "code",
   "execution_count": 47,
   "id": "db5b7cff",
   "metadata": {},
   "outputs": [
    {
     "name": "stderr",
     "output_type": "stream",
     "text": [
      "test_multiplier_exception (__main__.CalculatorTestCase) ... FAIL\n",
      "test_remainder_exception (__main__.CalculatorTestCase) ... ok\n",
      "\n",
      "======================================================================\n",
      "FAIL: test_multiplier_exception (__main__.CalculatorTestCase)\n",
      "----------------------------------------------------------------------\n",
      "Traceback (most recent call last):\n",
      "  File \"C:\\Users\\ning_lin\\AppData\\Local\\Temp/ipykernel_1652/2681011549.py\", line 29, in test_multiplier_exception\n",
      "    self.assertRaises(AssertionError, self.assertEqual, mul, res)\n",
      "AssertionError: AssertionError not raised by assertEqual\n",
      "\n",
      "----------------------------------------------------------------------\n",
      "Ran 2 tests in 0.003s\n",
      "\n",
      "FAILED (failures=1)\n"
     ]
    },
    {
     "data": {
      "text/plain": [
       "<unittest.runner.TextTestResult run=2 errors=0 failures=1>"
      ]
     },
     "execution_count": 47,
     "metadata": {},
     "output_type": "execute_result"
    }
   ],
   "source": [
    "'''\n",
    "assertRaises：確認是否有 raised error\n",
    "assertRaisesRegex：確認 raised error 是否含特定文字 \n",
    "'''\n",
    "import unittest\n",
    "import numpy as np\n",
    "\n",
    "class GetData:\n",
    "    def modifing(self, a, b):\n",
    "        return (int(a), int(b))\n",
    "\n",
    "class CalculatorTestCase(unittest.TestCase):\n",
    "    def setUp(self):\n",
    "        self.data = GetData().modifing(2,5)\n",
    "\n",
    "    def tearDown(self):\n",
    "        self.args = None\n",
    "    \n",
    "    def test_multiplier_exception(self):\n",
    "        mul = 10\n",
    "        res = np.multiply(*data)\n",
    "        self.assertRaises(AssertionError, self.assertEqual, mul, res) # AssertionError not raised by assertEqual\n",
    "\n",
    "    def test_remainder_exception(self):\n",
    "        rem = 0\n",
    "        res = np.remainder(*data)\n",
    "        self.assertRaisesRegex(AssertionError, '0 != .*', self.assertEqual, rem, res) # 特定文字：0 != .*\n",
    "\n",
    "suite = unittest.TestLoader().loadTestsFromTestCase(CalculatorTestCase)\n",
    "unittest.TextTestRunner(verbosity=2).run(suite)"
   ]
  }
 ],
 "metadata": {
  "kernelspec": {
   "display_name": "py39_torch",
   "language": "python",
   "name": "py39_torch"
  },
  "language_info": {
   "codemirror_mode": {
    "name": "ipython",
    "version": 3
   },
   "file_extension": ".py",
   "mimetype": "text/x-python",
   "name": "python",
   "nbconvert_exporter": "python",
   "pygments_lexer": "ipython3",
   "version": "3.9.2"
  }
 },
 "nbformat": 4,
 "nbformat_minor": 5
}
