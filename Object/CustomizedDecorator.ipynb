{
 "cells": [
  {
   "cell_type": "markdown",
   "id": "04ffc449",
   "metadata": {},
   "source": [
    "## 簡介\n",
    "* 將常用的 decorator 紀錄於此\n",
    "* function 可以當作被傳遞的物件，decorator 善用了此項特點\n",
    "* decorator 用途與特性：\n",
    "    * 簡潔：把不同 function 相同內容抽出為 decorator，以修飾 function\n",
    "    * 有序：不同 decorator 使用在同一 function 的順序會導致結果有別 \n",
    "\n",
    "\n",
    "## 學習資源\n",
    "* [部落格：Python進階技巧 (3) — 神奇又美好的 Decorator ，嗷嗚！](https://medium.com/citycoddee/python%E9%80%B2%E9%9A%8E%E6%8A%80%E5%B7%A7-3-%E7%A5%9E%E5%A5%87%E5%8F%88%E7%BE%8E%E5%A5%BD%E7%9A%84-decorator-%E5%97%B7%E5%97%9A-6559edc87bc0)"
   ]
  },
  {
   "cell_type": "code",
   "execution_count": 39,
   "id": "6bc59aa5",
   "metadata": {},
   "outputs": [
    {
     "name": "stdout",
     "output_type": "stream",
     "text": [
      "<function info.<locals>.print_something at 0x0000016550FE2E18>\n",
      "hello user\n",
      "hello user!\n",
      "hello user!!\n",
      "hello user!!!\n"
     ]
    }
   ],
   "source": [
    "\"\"\"\n",
    "EX：function 可以當作被傳遞的物件\n",
    "* aa 是 info() return 的物件，該物件又是 print_something() \n",
    "* 故在呼叫 aa() 時，等同於在呼叫 print_something()\n",
    "* 並且 print_something() 捕捉了 name 這個 variable，稱 name 為 captured variable\n",
    "* 帶有 captured variable 的 function 稱為 closure function\n",
    "* 若要做操作 captured variable 需變成 nonlocal，如 info2()\n",
    "\"\"\"\n",
    "def info():\n",
    "    name = 'user'\n",
    "    def print_something():\n",
    "        print(f'hello {name}')\n",
    "    \n",
    "    return print_something\n",
    "\n",
    "aa = info()\n",
    "print(aa)\n",
    "aa()\n",
    "\n",
    "def info2():\n",
    "    name = 'user'\n",
    "    def print_something(): \n",
    "        nonlocal name\n",
    "        name += '!'\n",
    "        print(f'hello {name}')\n",
    "    \n",
    "    return print_something\n",
    "\n",
    "bb = info2()\n",
    "bb()\n",
    "bb()\n",
    "bb()"
   ]
  },
  {
   "cell_type": "code",
   "execution_count": 19,
   "id": "7545d74c",
   "metadata": {},
   "outputs": [],
   "source": [
    "\"\"\"\n",
    "EX1：把不同 function 相同內容抽出為 decorator，以修飾 function，如印出 function 名稱、時間做修飾\n",
    "* 此處的 func 為所有想計算運算時間的 function，如 adder 及 multiplier\n",
    "* timing 把 func 傳入\n",
    "* wrap_func 將欲添加的功能加以修飾 func\n",
    "* timing 回傳 wrap_func 以回傳修飾過的 func\n",
    "\"\"\"\n",
    "from time import time\n",
    "\n",
    "\n",
    "def timing(func):\n",
    "    # This function shows the execution time of\n",
    "    # the function object passed\n",
    "    def wrap_func(*args, **kwargs):\n",
    "        start_time = time()\n",
    "        result = func(*args, **kwargs)\n",
    "        end_time = time()\n",
    "        spent_time = end_time - start_time\n",
    "        print(f' {func.__name__!r} executed in {spent_time:.4f}s')\n",
    "#         print(f'[{func.__name__}] : {spent_time:.4f}s')\n",
    "#         print(f'Function {func.__doc__!r} executed in {spent_time:.4f}s')\n",
    "#         print(f'Function {func.__doc__} executed in {spent_time:.4f}s')\n",
    "        return result\n",
    "    return wrap_func"
   ]
  },
  {
   "cell_type": "code",
   "execution_count": 13,
   "id": "a352787d",
   "metadata": {},
   "outputs": [
    {
     "name": "stdout",
     "output_type": "stream",
     "text": [
      " 'adder' executed in 0.0000s\n",
      "45\n",
      " 'multiplier' executed in 0.0000s\n",
      "None\n"
     ]
    }
   ],
   "source": [
    "\"\"\"\n",
    "EX1-1\n",
    "用 function 呼叫\n",
    "\"\"\"\n",
    "def adder():\n",
    "    cnt = 0\n",
    "    for i in range(10):\n",
    "        cnt += i\n",
    "    return cnt\n",
    "\n",
    "def multiplier():\n",
    "    cnt = 0\n",
    "    for i in range(10):\n",
    "        cnt *= i\n",
    "\n",
    "cnt = timing(adder)()\n",
    "print(cnt)\n",
    "cnt = timing(multiplier)()\n",
    "print(cnt)"
   ]
  },
  {
   "cell_type": "code",
   "execution_count": 14,
   "id": "aff161ec",
   "metadata": {},
   "outputs": [
    {
     "name": "stdout",
     "output_type": "stream",
     "text": [
      " 'adder' executed in 0.0000s\n",
      " 'multiplier' executed in 0.0000s\n"
     ]
    }
   ],
   "source": [
    "\"\"\"\n",
    "EX1-2\n",
    "用 @ 讓語法簡化\n",
    "\"\"\"\n",
    "@timing\n",
    "def adder():\n",
    "    cnt = 0\n",
    "    for i in range(10):\n",
    "        cnt += i\n",
    "    return cnt\n",
    "\n",
    "@timing\n",
    "def multiplier():\n",
    "    cnt = 0\n",
    "    for i in range(10):\n",
    "        cnt *= i\n",
    "cnt = adder()\n",
    "multiplier()"
   ]
  },
  {
   "cell_type": "code",
   "execution_count": 15,
   "id": "ea177ed9",
   "metadata": {},
   "outputs": [],
   "source": [
    "\"\"\"\n",
    "EX2：decorator 有順序性，如將印出 function 名稱、時間分開做兩個 decorator，越靠近欲修飾的 function 會越先合併\n",
    "* EX2-1：先合併 print_time 並回吐 wrap_func > print_name 傳入的 func 為 wrap_func > 故印出 function 名字為 wrap_func\n",
    "* EX2-2：先合併 print_name 並回吐 wrap_func > print_time 傳入的 func 為 wrap_func > wrap_func 傳入 adder 印出其運算時間\n",
    "\"\"\"\n",
    "def print_name(func):\n",
    "    # This function shows the execution time of\n",
    "    # the function object passed\n",
    "    def wrap_func(*args, **kwargs):\n",
    "        result = func(*args, **kwargs)\n",
    "        print(f'{func.__name__!r}')\n",
    "        return result\n",
    "    return wrap_func\n",
    "\n",
    "def print_time(func):\n",
    "    # This function shows the execution time of\n",
    "    # the function object passed\n",
    "    def wrap_func(*args, **kwargs):\n",
    "        start_time = time()\n",
    "        result = func(*args, **kwargs)\n",
    "        end_time = time()\n",
    "        spent_time = end_time - start_time\n",
    "        print(f'{spent_time:.4f}s')\n",
    "        return result\n",
    "    return wrap_func"
   ]
  },
  {
   "cell_type": "code",
   "execution_count": 17,
   "id": "462a293c",
   "metadata": {},
   "outputs": [
    {
     "name": "stdout",
     "output_type": "stream",
     "text": [
      "0.0000s\n",
      "'wrap_func'\n"
     ]
    }
   ],
   "source": [
    "\"\"\"\n",
    "EX2-1\n",
    "\"\"\"\n",
    "@print_name\n",
    "@print_time\n",
    "def adder():\n",
    "    cnt = 0\n",
    "    for i in range(10):\n",
    "        cnt += i\n",
    "adder()"
   ]
  },
  {
   "cell_type": "code",
   "execution_count": 18,
   "id": "25e95108",
   "metadata": {},
   "outputs": [
    {
     "name": "stdout",
     "output_type": "stream",
     "text": [
      "'adder'\n",
      "0.0000s\n"
     ]
    }
   ],
   "source": [
    "\"\"\"\n",
    "EX2-2\n",
    "\"\"\"\n",
    "@print_time\n",
    "@print_name\n",
    "def adder():\n",
    "    cnt = 0\n",
    "    for i in range(10):\n",
    "        cnt += i\n",
    "adder()"
   ]
  }
 ],
 "metadata": {
  "kernelspec": {
   "display_name": "Python 3",
   "language": "python",
   "name": "python3"
  },
  "language_info": {
   "codemirror_mode": {
    "name": "ipython",
    "version": 3
   },
   "file_extension": ".py",
   "mimetype": "text/x-python",
   "name": "python",
   "nbconvert_exporter": "python",
   "pygments_lexer": "ipython3",
   "version": "3.6.8"
  }
 },
 "nbformat": 4,
 "nbformat_minor": 5
}
