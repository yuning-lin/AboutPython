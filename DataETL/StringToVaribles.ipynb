{
 "cells": [
  {
   "cell_type": "markdown",
   "id": "3635eee1",
   "metadata": {},
   "source": [
    "## 常用情境\n",
    "* 當變數初命名是重複類似的動作\n",
    "    * EX：var1, var2, var3\n",
    "* 當類似命名變數均要改存相似的東西、操作\n",
    "    * EX：var1 = 1, var2 = 2, var3 = 3\n",
    "* 利用 `eval('變數名稱')` 呼叫該變數"
   ]
  },
  {
   "cell_type": "code",
   "execution_count": 21,
   "id": "073c7a6f",
   "metadata": {},
   "outputs": [
    {
     "name": "stdout",
     "output_type": "stream",
     "text": [
      "None\n",
      "None\n",
      "None\n"
     ]
    }
   ],
   "source": [
    "#### 當變數初命名是重複類似的動作\n",
    "for i in range(3):\n",
    "    globals()[f'var{i}'] = None\n",
    "    print(eval(f'var{i}'))"
   ]
  },
  {
   "cell_type": "code",
   "execution_count": 22,
   "id": "96b8d37d",
   "metadata": {},
   "outputs": [
    {
     "name": "stdout",
     "output_type": "stream",
     "text": [
      "0\n",
      "1\n",
      "2\n"
     ]
    }
   ],
   "source": [
    "#### 當類似命名變數均要改存相似的東西、操作，要怎麼呼叫？\n",
    "for i in range(3):\n",
    "    exec(f\"var{i} = {i}\")\n",
    "    print(eval(f'var{i}'))"
   ]
  },
  {
   "cell_type": "markdown",
   "id": "b3525bd6",
   "metadata": {},
   "source": [
    "## 如何查驗\n",
    "* 可以利用 `globals()`、`locals()`、`dir()` 加上正則表達式或判斷式找到變數\n",
    "* 可以利用 `%who`、`%whos` 列出使用者自定義變數"
   ]
  },
  {
   "cell_type": "code",
   "execution_count": 10,
   "id": "f47eb082",
   "metadata": {},
   "outputs": [
    {
     "name": "stdout",
     "output_type": "stream",
     "text": [
      "var0 None\n",
      "var1 None\n",
      "var2 None\n",
      "------------------------\n",
      "var0 None\n",
      "var1 None\n",
      "var2 None\n",
      "------------------------\n",
      "var0\n",
      "var1\n",
      "var2\n"
     ]
    }
   ],
   "source": [
    "'''\n",
    "須將 globals() 或 locals() 這些 dictionary 先存於某變數中\n",
    "因為只要有新的變數出現，globals() 或 locals() 內容就會改變\n",
    "'''\n",
    "\n",
    "tmp = globals().copy()\n",
    "for k, v in tmp.items():\n",
    "    if 'var' in k:\n",
    "        print(k, v)\n",
    "\n",
    "print('------------------------')\n",
    "\n",
    "tmp = locals().copy()\n",
    "for k, v in tmp.items():\n",
    "    if 'var' in k:\n",
    "        print(k, v)\n",
    "\n",
    "'''\n",
    "dir() 也不例外，也需先存於某變數中\n",
    "和 globals() 或 locals() 不同的是，其形態僅為儲存變數名稱的 list \n",
    "'''\n",
    "print('------------------------')\n",
    "\n",
    "tmp = dir().copy()\n",
    "for i in tmp:\n",
    "    if 'var' in i:\n",
    "        print(i)"
   ]
  },
  {
   "cell_type": "code",
   "execution_count": 18,
   "id": "320f21c2",
   "metadata": {},
   "outputs": [
    {
     "name": "stdout",
     "output_type": "stream",
     "text": [
      "i\t k\t tmp\t v\t var0\t var1\t var2\t \n",
      "========================================================================\n",
      "Variable   Type        Data/Info\n",
      "--------------------------------\n",
      "i          str         var2\n",
      "k          str         _i10\n",
      "tmp        list        n=42\n",
      "v          str         '''\\n須將 globals() 或 local<...>' in i:\\n        print(i)\n",
      "var0       NoneType    None\n",
      "var1       NoneType    None\n",
      "var2       NoneType    None\n"
     ]
    }
   ],
   "source": [
    "'''\n",
    "利用 magic command 快速找到自定義變數名稱\n",
    "%who: 僅列出變數名稱\n",
    "%whos: 列出變數名稱、型態、內容\n",
    "'''\n",
    "\n",
    "%who\n",
    "\n",
    "print('========================================================================')\n",
    "\n",
    "%whos"
   ]
  },
  {
   "cell_type": "markdown",
   "id": "18e9b574",
   "metadata": {},
   "source": [
    "### 參考資源\n",
    "* [官方：Built-in magic commands](https://ipython.readthedocs.io/en/stable/interactive/magics.html)"
   ]
  }
 ],
 "metadata": {
  "kernelspec": {
   "display_name": "Python 3",
   "language": "python",
   "name": "python3"
  },
  "language_info": {
   "codemirror_mode": {
    "name": "ipython",
    "version": 3
   },
   "file_extension": ".py",
   "mimetype": "text/x-python",
   "name": "python",
   "nbconvert_exporter": "python",
   "pygments_lexer": "ipython3",
   "version": "3.6.8"
  }
 },
 "nbformat": 4,
 "nbformat_minor": 5
}
