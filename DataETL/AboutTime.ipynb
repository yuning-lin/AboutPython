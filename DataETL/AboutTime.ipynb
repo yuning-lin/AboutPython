{
 "cells": [
  {
   "cell_type": "markdown",
   "id": "1e621eca",
   "metadata": {},
   "source": [
    "## 簡介\n",
    "時間戳記常用於檔名、日誌及資料內容等  \n",
    "常見的功能基本上用 `datetime` 此套件即可  \n",
    "紀錄一些關於時間上好用的功能於此  "
   ]
  },
  {
   "cell_type": "code",
   "execution_count": 23,
   "id": "6950e74d",
   "metadata": {},
   "outputs": [],
   "source": [
    "\"\"\"\n",
    "常用套件\n",
    "\"\"\"\n",
    "from datetime import timedelta, datetime, timezone\n",
    "from dateutil.relativedelta import relativedelta"
   ]
  },
  {
   "cell_type": "code",
   "execution_count": 24,
   "id": "26826093",
   "metadata": {},
   "outputs": [
    {
     "name": "stdout",
     "output_type": "stream",
     "text": [
      "now in datetime format: 2022-06-16 11:43:00.493076\n",
      "from datetime format to string format: 20220616\n",
      "from string format to datetime format: 2022-06-16 00:00:00\n"
     ]
    }
   ],
   "source": [
    "\"\"\"\n",
    "* 取時間\n",
    "* 時間轉換成指定格式字串\n",
    "* 指定格式字串轉換成時間\n",
    "\"\"\"\n",
    "now_dt = datetime.now()\n",
    "now_str = datetime.strftime(now_dt, '%Y%m%d')\n",
    "now_dt2 = datetime.strptime(now_str, '%Y%m%d')\n",
    "\n",
    "print('now in datetime format:', now_dt)\n",
    "print('from datetime format to string format:', now_str)\n",
    "print('from string format to datetime format:', now_dt2)"
   ]
  },
  {
   "cell_type": "code",
   "execution_count": 27,
   "id": "6d49ca5f",
   "metadata": {},
   "outputs": [
    {
     "name": "stdout",
     "output_type": "stream",
     "text": [
      "2022-06-16 11:42:59.493076\n",
      "2022-06-16 11:42:00.493076\n",
      "2022-06-16 10:43:00.493076\n",
      "2022-06-15 11:43:00.493076\n",
      "2022-06-09 11:43:00.493076\n",
      "-----------------------------------\n",
      "2022-06-16 11:42:59.493076\n",
      "2022-06-16 11:42:00.493076\n",
      "2022-06-16 10:43:00.493076\n",
      "2022-06-15 11:43:00.493076\n",
      "2022-06-09 11:43:00.493076\n",
      "2022-05-16 11:43:00.493076\n",
      "2021-06-16 11:43:00.493076\n"
     ]
    }
   ],
   "source": [
    "\"\"\"\n",
    "時間加減計算\n",
    "* 大部分的加減計算都可以用 timedelta 解決\n",
    "* 但少部分如：months、years 沒有辦法，因為時間長短並非固定（EX：有些月份 30 天有些 28 天）\n",
    "* relativedelta 從秒至年都可以使用\n",
    "\"\"\"\n",
    "print(now_dt - timedelta(seconds=1))\n",
    "print(now_dt - timedelta(minutes=1))\n",
    "print(now_dt - timedelta(hours=1))\n",
    "print(now_dt - timedelta(days=1))\n",
    "print(now_dt - timedelta(weeks=1))\n",
    "\n",
    "print('-----------------------------------')\n",
    "\n",
    "print(now_dt - relativedelta(seconds=1))\n",
    "print(now_dt - relativedelta(minutes=1))\n",
    "print(now_dt - relativedelta(hours=1))\n",
    "print(now_dt - relativedelta(days=1))\n",
    "print(now_dt - relativedelta(weeks=1))\n",
    "print(now_dt - relativedelta(months=1))\n",
    "print(now_dt - relativedelta(years=1))"
   ]
  },
  {
   "cell_type": "code",
   "execution_count": 29,
   "id": "d967ba11",
   "metadata": {},
   "outputs": [
    {
     "name": "stdout",
     "output_type": "stream",
     "text": [
      "2022-06-16 03:50:16.434742+00:00\n",
      "2022-06-16 11:50:16.434742+08:00\n"
     ]
    }
   ],
   "source": [
    "\"\"\"\n",
    "指定時區\n",
    "機器和所在時區的時間設置常常不同，對齊時區是便於快速理解的\n",
    "\"\"\"\n",
    "\n",
    "print(datetime.now(timezone.utc))\n",
    "print(datetime.now(timezone(timedelta(hours=+8))))"
   ]
  }
 ],
 "metadata": {
  "kernelspec": {
   "display_name": "Python 3",
   "language": "python",
   "name": "python3"
  },
  "language_info": {
   "codemirror_mode": {
    "name": "ipython",
    "version": 3
   },
   "file_extension": ".py",
   "mimetype": "text/x-python",
   "name": "python",
   "nbconvert_exporter": "python",
   "pygments_lexer": "ipython3",
   "version": "3.6.8"
  }
 },
 "nbformat": 4,
 "nbformat_minor": 5
}
