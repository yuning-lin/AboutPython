{
 "cells": [
  {
   "cell_type": "code",
   "execution_count": 1,
   "metadata": {},
   "outputs": [],
   "source": [
    "from sklearn.svm import SVC\n",
    "from sklearn.datasets import load_breast_cancer\n",
    "from sklearn.model_selection import train_test_split, GridSearchCV\n",
    "from sklearn.preprocessing import StandardScaler\n",
    "from sklearn.pipeline import make_pipeline\n",
    "from sklearn.base import clone"
   ]
  },
  {
   "cell_type": "code",
   "execution_count": 6,
   "metadata": {},
   "outputs": [
    {
     "name": "stdout",
     "output_type": "stream",
     "text": [
      "steps:\n",
      "[('standardscaler', StandardScaler(copy=True, with_mean=True, with_std=True)), ('svc', SVC(C=100, break_ties=False, cache_size=200, class_weight=None, coef0=0.0,\n",
      "    decision_function_shape='ovr', degree=3, gamma='scale', kernel='rbf',\n",
      "    max_iter=-1, probability=False, random_state=None, shrinking=True,\n",
      "    tol=0.001, verbose=False))]\n",
      "named_steps:\n",
      "{'standardscaler': StandardScaler(copy=True, with_mean=True, with_std=True), 'svc': SVC(C=100, break_ties=False, cache_size=200, class_weight=None, coef0=0.0,\n",
      "    decision_function_shape='ovr', degree=3, gamma='scale', kernel='rbf',\n",
      "    max_iter=-1, probability=False, random_state=None, shrinking=True,\n",
      "    tol=0.001, verbose=False)}\n",
      "score: 0.986013986013986\n"
     ]
    }
   ],
   "source": [
    "'''\n",
    "載入資料集區分訓練和測試集\n",
    "建立 pipeline\n",
    "'''\n",
    "cancer_df = load_breast_cancer()\n",
    "x_train, x_test, y_train, y_test = train_test_split(cancer_df.data, cancer_df.target, random_state=123)\n",
    "clf = make_pipeline(StandardScaler(), SVC(C=100))\n",
    "print('steps:', clf.steps, sep='\\n')\n",
    "print('named_steps:', clf.named_steps, sep='\\n')\n",
    "model = clone(clf).fit(x_train, y_train)\n",
    "print('score:', model.score(x_test, y_test))"
   ]
  },
  {
   "cell_type": "code",
   "execution_count": 8,
   "metadata": {},
   "outputs": [
    {
     "name": "stdout",
     "output_type": "stream",
     "text": [
      "[('standardscaler', StandardScaler(copy=True, with_mean=True, with_std=True)), ('svc', SVC(C=1.0, break_ties=False, cache_size=200, class_weight=None, coef0=0.0,\n",
      "    decision_function_shape='ovr', degree=3, gamma='scale', kernel='rbf',\n",
      "    max_iter=-1, probability=False, random_state=None, shrinking=True,\n",
      "    tol=0.001, verbose=False))]\n",
      "最佳參數組合：\n",
      "Pipeline(memory=None,\n",
      "         steps=[('standardscaler',\n",
      "                 StandardScaler(copy=True, with_mean=True, with_std=True)),\n",
      "                ('svc',\n",
      "                 SVC(C=10, break_ties=False, cache_size=200, class_weight=None,\n",
      "                     coef0=0.0, decision_function_shape='ovr', degree=3,\n",
      "                     gamma=0.001, kernel='rbf', max_iter=-1, probability=False,\n",
      "                     random_state=None, shrinking=True, tol=0.001,\n",
      "                     verbose=False))],\n",
      "         verbose=False)\n",
      "最佳參數組合分數：\n",
      "0.9717920656634748\n",
      "0.3776223776223776\n",
      "[0 0 0 0 0 0 0 0 0 0 0 0 0 0 0 0 0 0 0 0 0 0 0 0 0 0 0 0 0 0 0 0 0 0 0 0 0\n",
      " 0 0 0 0 0 0 0 0 0 0 0 0 0 0 0 0 0 0 0 0 0 0 0 0 0 0 0 0 0 0 0 0 0 0 0 0 0\n",
      " 0 0 0 0 0 0 0 0 0 0 0 0 0 0 0 0 0 0 0 0 0 0 0 0 0 0 0 0 0 0 0 0 0 0 0 0 0\n",
      " 0 0 0 0 0 0 0 0 0 0 0 0 0 0 0 0 0 0 0 0 0 0 0 0 0 0 0 0 0 0 0 0]\n",
      "[-0.48536086 -0.48536086 -0.48536086 -0.48536086 -0.48536086 -0.48536086\n",
      " -0.48536086 -0.48536086 -0.48536086 -0.48536086 -0.48536086 -0.48536086\n",
      " -0.48536086 -0.48536086 -0.48536086 -0.48536086 -0.48536086 -0.48536086\n",
      " -0.48536086 -0.48536086 -0.48536086 -0.48536086 -0.48536086 -0.48536086\n",
      " -0.48536086 -0.48536086 -0.48536086 -0.48536086 -0.48536086 -0.48536086\n",
      " -0.48536086 -0.48536086 -0.48536086 -0.48536086 -0.48536086 -0.48536086\n",
      " -0.48536086 -0.48536086 -0.48536086 -0.48536086 -0.48536086 -0.48536086\n",
      " -0.48536086 -0.48536086 -0.48536086 -0.48536086 -0.48536086 -0.48536086\n",
      " -0.48536086 -0.48536086 -0.48536086 -0.48536086 -0.48536086 -0.48536086\n",
      " -0.48536086 -0.48536086 -0.48536086 -0.48536086 -0.48536086 -0.48536086\n",
      " -0.48536086 -0.48536086 -0.48536086 -0.48536086 -0.48536086 -0.48536086\n",
      " -0.48536086 -0.48536086 -0.48536086 -0.48536086 -0.48536086 -0.48536086\n",
      " -0.48536086 -0.48536086 -0.48536086 -0.48536086 -0.48536086 -0.48536086\n",
      " -0.48536086 -0.48536086 -0.48536086 -0.48536086 -0.48536086 -0.48536086\n",
      " -0.48536086 -0.48536086 -0.48536086 -0.48536086 -0.48536086 -0.48536086\n",
      " -0.48536086 -0.48536086 -0.48536086 -0.48536086 -0.48536086 -0.48536086\n",
      " -0.48536086 -0.48536086 -0.48536086 -0.48536086 -0.48536086 -0.48536086\n",
      " -0.48536086 -0.48536086 -0.48536086 -0.48536086 -0.48536086 -0.48536086\n",
      " -0.48536086 -0.48536086 -0.48536086 -0.48536086 -0.48536086 -0.48536086\n",
      " -0.48536086 -0.48536086 -0.48536086 -0.48536086 -0.48536086 -0.48536086\n",
      " -0.48536086 -0.48536086 -0.48536086 -0.48536086 -0.48536086 -0.48536086\n",
      " -0.48536086 -0.48536086 -0.48536086 -0.48536086 -0.48536086 -0.48536086\n",
      " -0.48536086 -0.48536086 -0.48536086 -0.48536086 -0.48536086 -0.48536086\n",
      " -0.48536086 -0.48536086 -0.48536086 -0.48536086 -0.48536086]\n"
     ]
    }
   ],
   "source": [
    "'''\n",
    "配合 GridSearchCV 建立 pipeline\n",
    "根據 steps 印出的模型加雙底線加參數名稱以設定參數範圍\n",
    "但為何 GridSearchCV 結果反而比較差，有待查證 #------------ unsure\n",
    "以及 best_score_ 和 score 的差別 #------------\n",
    "'''\n",
    "clf2 = make_pipeline(StandardScaler(), SVC()) # 不能事先設定參數\n",
    "print(clf2.steps)\n",
    "params = {'svc__C':[0.001,0.01,0.1,1,10,100,1000], 'svc__gamma':[0.001,0.01,0.1,1,10,100,1000]}\n",
    "gridsearch_cv = GridSearchCV(clone(clf2), param_grid=params, cv=5, n_jobs=-1, scoring = 'accuracy') # n_jobs=-1:平行運算\n",
    "gridsearch_cv.fit(x_train, y_train)\n",
    "print('最佳參數組合：', gridsearch_cv.best_estimator_, sep='\\n')\n",
    "print('最佳參數組合分數：', gridsearch_cv.best_score_, sep='\\n')\n",
    "print(gridsearch_cv.best_estimator_['svc'].score(x_test, y_test))\n",
    "print(gridsearch_cv.best_estimator_['svc'].predict(x_test))\n",
    "print(gridsearch_cv.best_estimator_['svc'].decision_function(x_test))"
   ]
  },
  {
   "cell_type": "code",
   "execution_count": null,
   "metadata": {},
   "outputs": [],
   "source": []
  }
 ],
 "metadata": {
  "kernelspec": {
   "display_name": "Python 3",
   "language": "python",
   "name": "python3"
  },
  "language_info": {
   "codemirror_mode": {
    "name": "ipython",
    "version": 3
   },
   "file_extension": ".py",
   "mimetype": "text/x-python",
   "name": "python",
   "nbconvert_exporter": "python",
   "pygments_lexer": "ipython3",
   "version": "3.6.9"
  }
 },
 "nbformat": 4,
 "nbformat_minor": 4
}
