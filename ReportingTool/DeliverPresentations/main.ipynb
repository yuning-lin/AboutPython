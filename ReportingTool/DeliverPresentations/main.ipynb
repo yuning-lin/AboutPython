{
 "cells": [
  {
   "cell_type": "markdown",
   "id": "94b17d45",
   "metadata": {},
   "source": [
    "## 引入套件"
   ]
  },
  {
   "cell_type": "code",
   "execution_count": 4,
   "id": "97afd213",
   "metadata": {},
   "outputs": [],
   "source": [
    "import config as conf\n",
    "import pandas as pd\n",
    "import numpy as np\n",
    "import itertools\n",
    "from pptx import Presentation\n",
    "from pptx.util import Pt, Cm, Inches\n",
    "from pptx.dml.color import RGBColor\n",
    "from pptx.enum.text import PP_ALIGN"
   ]
  },
  {
   "cell_type": "code",
   "execution_count": 5,
   "id": "551524b0",
   "metadata": {},
   "outputs": [],
   "source": [
    "'''\n",
    "讀取 ppt 模板\n",
    "若不添加 conf.ppt_module_path，則為不指定模板的空白 ppt\n",
    "'''\n",
    "ppt = Presentation(conf.ppt_module_path)"
   ]
  },
  {
   "cell_type": "markdown",
   "id": "3302681e",
   "metadata": {},
   "source": [
    "## 製作封面"
   ]
  },
  {
   "cell_type": "code",
   "execution_count": 6,
   "id": "460eba76",
   "metadata": {},
   "outputs": [],
   "source": [
    "'''\n",
    "ppt.slides[0] --> 指定第一頁，但須該檔已有的頁數\n",
    "製作 ppt 封面\n",
    "設置標題文字及對齊方式\n",
    "設置副標題文字及對齊方式、是否加粗、是否斜體、字體樣式、大小、顏色\n",
    "'''\n",
    "front_cover_slide = ppt.slides[0]\n",
    "front_cover_title = front_cover_slide.shapes.title\n",
    "front_cover_subtitle = front_cover_slide.placeholders[1]\n",
    "\n",
    "front_cover_title.text = \"Introduction:\\nHow to deliver a presentation automatically by python?\"\n",
    "for i in range(len(front_cover_title.text.split('\\n'))):\n",
    "    front_cover_title.text_frame.paragraphs[i].alignment = PP_ALIGN.RIGHT\n",
    "    front_cover_title.text_frame.paragraphs[i].font.size = Pt(36)\n",
    "front_cover_subtitle.text = \"Author: Ning Lin\\nDate: 2022/04/21\\nVersion: 1st\"\n",
    "for i in range(len(front_cover_subtitle.text.split('\\n'))):\n",
    "    front_cover_subtitle.text_frame.paragraphs[i].alignment = PP_ALIGN.LEFT\n",
    "    front_cover_subtitle.text_frame.paragraphs[i].font.name = 'Arial'\n",
    "    front_cover_subtitle.text_frame.paragraphs[i].font.color.rgb = RGBColor(241, 250, 238)\n",
    "    front_cover_subtitle.text_frame.paragraphs[i].font.bold = True \n",
    "    front_cover_subtitle.text_frame.paragraphs[i].font.italic = True\n",
    "    front_cover_subtitle.text_frame.paragraphs[i].font.size = Pt(18)"
   ]
  },
  {
   "cell_type": "markdown",
   "id": "d9efa797",
   "metadata": {},
   "source": [
    "## 增加新頁並添加階層式文字"
   ]
  },
  {
   "cell_type": "code",
   "execution_count": 7,
   "id": "6cde0bee",
   "metadata": {},
   "outputs": [],
   "source": [
    "hierarchical_text_layout = ppt.slide_layouts[1]\n",
    "hierarchical_text_slide = ppt.slides.add_slide(hierarchical_text_layout)\n",
    "hierarchical_text_shapes = hierarchical_text_slide.shapes\n",
    "\n",
    "hierarchical_text_title = hierarchical_text_shapes.title\n",
    "hierarchical_text_title.text = 'Hierarchical Bullet Slide '\n",
    "\n",
    "hierarchical_text_body = hierarchical_text_shapes.placeholders[1]\n",
    "hierarchical_text_tf = hierarchical_text_body.text_frame\n",
    "hierarchical_text_tf.text = 'Various content includes:'\n",
    "\n",
    "p = hierarchical_text_tf.add_paragraph()\n",
    "p.text = 'Use text_frame for adding text.'\n",
    "p.level = 1\n",
    "p = hierarchical_text_tf.add_paragraph()\n",
    "p.text = 'add_paragraph'\n",
    "p.level = 2\n",
    "p = hierarchical_text_tf.add_paragraph()\n",
    "p.text = 'add_textbox'\n",
    "p.level = 2\n",
    "p = hierarchical_text_tf.add_paragraph()\n",
    "p.text = 'Use add_picture for adding graphs.'\n",
    "p.level = 1\n",
    "p = hierarchical_text_tf.add_paragraph()\n",
    "p.text = 'Use add_table for adding tables.'\n",
    "p.level = 1"
   ]
  },
  {
   "cell_type": "markdown",
   "id": "754d0ecf",
   "metadata": {},
   "source": [
    "## 增加空白新頁並添加文字方塊"
   ]
  },
  {
   "cell_type": "code",
   "execution_count": 8,
   "id": "e9442222",
   "metadata": {},
   "outputs": [],
   "source": [
    "blank_slide_layout = ppt.slide_layouts[6]\n",
    "blank_slide = ppt.slides.add_slide(blank_slide_layout)\n",
    "\n",
    "left = top = width = height = Inches(1)\n",
    "blank_slide_textbox = blank_slide.shapes.add_textbox(left, top, width, height)\n",
    "blank_slide_textbox_tf = blank_slide_textbox.text_frame\n",
    "\n",
    "blank_slide_textbox_tf.text = \"Text box with normal text\"\n",
    "\n",
    "p = blank_slide_textbox_tf.add_paragraph()\n",
    "p.text = \"Text box with bold and bigger text\"\n",
    "p.font.bold = True\n",
    "p.font.size = Pt(40)"
   ]
  },
  {
   "cell_type": "markdown",
   "id": "4dfecccf",
   "metadata": {},
   "source": [
    "## 增加新頁並添加圖片"
   ]
  },
  {
   "cell_type": "code",
   "execution_count": 9,
   "id": "89b68f0d",
   "metadata": {},
   "outputs": [],
   "source": [
    "picture_slide_layout = ppt.slide_layouts[5]\n",
    "picture_slide = ppt.slides.add_slide(picture_slide_layout)\n",
    "picture_slide_shapes = picture_slide.shapes\n",
    "picture_slide_shapes.title.text = 'Adding Pictures'\n",
    "\n",
    "left = top = width = height = Inches(3)\n",
    "picture_slide_textbox = picture_slide.shapes.add_textbox(left, top, width, height)\n",
    "picture_slide_textbox_tf = picture_slide_textbox.text_frame\n",
    "picture_slide_textbox_tf.text = \"Big picture\"\n",
    "top = Inches(3.5)\n",
    "pic = picture_slide.shapes.add_picture(conf.img_path, left, top)\n",
    "\n",
    "left = Inches(5)\n",
    "top = Inches(3)\n",
    "picture_slide_textbox = picture_slide.shapes.add_textbox(left, top, width, height)\n",
    "picture_slide_textbox_tf = picture_slide_textbox.text_frame\n",
    "picture_slide_textbox_tf.text = \"Small picture\"\n",
    "left = Inches(5.3)\n",
    "top = Inches(3.5)\n",
    "height = Inches(1)\n",
    "pic = picture_slide.shapes.add_picture(conf.img_path, left, top, height=height)\n"
   ]
  },
  {
   "cell_type": "markdown",
   "id": "e90270d6",
   "metadata": {},
   "source": [
    "## 增加新頁並添加表格"
   ]
  },
  {
   "cell_type": "code",
   "execution_count": 10,
   "id": "61d84f5f",
   "metadata": {},
   "outputs": [],
   "source": [
    "table_slide_layout = ppt.slide_layouts[5]\n",
    "table_slide = ppt.slides.add_slide(table_slide_layout)\n",
    "table_slide_shapes = table_slide.shapes\n",
    "table_slide_shapes.title.text = 'Adding a Table'\n",
    "\n",
    "rows = 4\n",
    "cols = 2\n",
    "left = top = Inches(3)\n",
    "width = Inches(6.0)\n",
    "height = Inches(0.8)\n",
    "\n",
    "table = table_slide_shapes.add_table(rows, cols, left, top, width, height).table\n",
    "\n",
    "# set column widths\n",
    "table.columns[0].width = Inches(2.0)\n",
    "table.columns[1].width = Inches(4.0)\n",
    "\n",
    "\n",
    "df = pd.DataFrame({'index':[0,1,2], 'name':['Amy','Betty','Cindy']})\n",
    "df.index = np.arange(1, len(df) + 1)\n",
    "data = df.to_dict()\n",
    "col_lst = list(data.keys())\n",
    "for r, c in itertools.product(list(range(rows)), list(range(cols))):\n",
    "    # write column headings\n",
    "    if r==0:\n",
    "        table.cell(r, c).text = col_lst[c]\n",
    "        table.cell(r, c).text_frame.paragraphs[0].font.color.rgb = RGBColor(241, 250, 238)\n",
    "        table.cell(r, c).text_frame.paragraphs[0].alignment = PP_ALIGN.CENTER\n",
    "        table.cell(r, c).fill.solid()\n",
    "        table.cell(r, c).fill.fore_color.rgb = RGBColor(20, 33, 61)\n",
    "    # write body cells\n",
    "    else:\n",
    "        table.cell(r, c).text = str(data[col_lst[c]][r])\n",
    "        table.cell(r, c).fill.solid()\n",
    "        table.cell(r, c).fill.fore_color.rgb = RGBColor(252, 163, 17)"
   ]
  },
  {
   "cell_type": "markdown",
   "id": "8fdbbed5",
   "metadata": {},
   "source": [
    "## 儲存簡報"
   ]
  },
  {
   "cell_type": "code",
   "execution_count": 13,
   "id": "5a57bff4",
   "metadata": {},
   "outputs": [],
   "source": [
    "ppt.save('test.pptx')"
   ]
  },
  {
   "cell_type": "code",
   "execution_count": null,
   "id": "e4de2634",
   "metadata": {},
   "outputs": [],
   "source": []
  }
 ],
 "metadata": {
  "kernelspec": {
   "display_name": "env_reporting",
   "language": "python",
   "name": "env_reporting"
  },
  "language_info": {
   "codemirror_mode": {
    "name": "ipython",
    "version": 3
   },
   "file_extension": ".py",
   "mimetype": "text/x-python",
   "name": "python",
   "nbconvert_exporter": "python",
   "pygments_lexer": "ipython3",
   "version": "3.6.8"
  }
 },
 "nbformat": 4,
 "nbformat_minor": 5
}
