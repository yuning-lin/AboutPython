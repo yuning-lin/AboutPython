{
 "cells": [
  {
   "cell_type": "markdown",
   "id": "62b9ef14",
   "metadata": {},
   "source": [
    "## 主題：更改客製化 PPT 內容\n",
    "1. 吃進 ppt 模板\n",
    "2. 找出要更改的內容位置\n",
    "3. 更改文字內容，不變更版面配置"
   ]
  },
  {
   "cell_type": "markdown",
   "id": "b1e02adc",
   "metadata": {},
   "source": [
    "## 引入套件"
   ]
  },
  {
   "cell_type": "code",
   "execution_count": 50,
   "id": "218eb6e5",
   "metadata": {},
   "outputs": [],
   "source": [
    "import pandas as pd\n",
    "import numpy as np\n",
    "from datetime import datetime\n",
    "from pptx import Presentation\n",
    "from pptx.util import Pt, Cm, Inches\n",
    "from pptx.dml.color import RGBColor\n",
    "from pptx.enum.text import PP_ALIGN"
   ]
  },
  {
   "cell_type": "markdown",
   "id": "d4de7ac1",
   "metadata": {},
   "source": [
    "## 步驟一：讀取指定路徑模板"
   ]
  },
  {
   "cell_type": "code",
   "execution_count": 51,
   "id": "2d882683",
   "metadata": {},
   "outputs": [],
   "source": [
    "'''\n",
    "讀取已客製化的 ppt 模板\n",
    "'''\n",
    "ppt = Presentation('customized_template.pptx')"
   ]
  },
  {
   "cell_type": "markdown",
   "id": "282403b1",
   "metadata": {},
   "source": [
    "## 步驟二：找出要更改的內容位置\n",
    "* 想更新模板時間的位置\n",
    "* 想更新表格內容的位置\n",
    "* [官方網站：shapes](https://python-pptx.readthedocs.io/en/latest/api/shapes.html#shape-objects-in-general)"
   ]
  },
  {
   "cell_type": "code",
   "execution_count": 52,
   "id": "518f6a62",
   "metadata": {},
   "outputs": [
    {
     "name": "stdout",
     "output_type": "stream",
     "text": [
      "COVER SLIDE:\n",
      "\n",
      "標題 1\n",
      "PLACEHOLDER (14)\n",
      "2\n",
      "副標題 2\n",
      "PLACEHOLDER (14)\n",
      "3\n",
      "\n",
      "TABLE SLIDE:\n",
      "\n",
      "標題 1\n",
      "PLACEHOLDER (14)\n",
      "2\n",
      "表格 2\n",
      "TABLE (19)\n",
      "3\n"
     ]
    }
   ],
   "source": [
    "'''\n",
    "name: shape 名稱\n",
    "shape_type: shape 型態數字固定，EX：PLACEHOLDER 是 14；TABLE 是 19\n",
    "shape_id: 每張 slide 裡的 shape 都有自己的 id，不同張 slide 的 id 數字獨立\n",
    "'''\n",
    "print('cover slide:'.upper(),'', sep='\\n')\n",
    "cover_slide = ppt.slides[0]\n",
    "for s in cover_slide.shapes:\n",
    "    print(s.name)\n",
    "    print(s.shape_type)\n",
    "    print(s.shape_id)\n",
    "\n",
    "print('','table slide:'.upper(),'', sep='\\n')\n",
    "table_slide = ppt.slides[1]\n",
    "for s in table_slide.shapes:\n",
    "    print(s.name)\n",
    "    print(s.shape_type)\n",
    "    print(s.shape_id)"
   ]
  },
  {
   "cell_type": "code",
   "execution_count": 54,
   "id": "fa0aabe1",
   "metadata": {},
   "outputs": [
    {
     "name": "stdout",
     "output_type": "stream",
     "text": [
      "'季度' is cells[0][0]\n",
      "'2022Q1' is cells[0][1]\n",
      "'2022Q2' is cells[0][2]\n",
      "'2022Q3' is cells[0][3]\n",
      "'2022Q4' is cells[0][4]\n",
      "'總量' is cells[1][0]\n",
      "'100' is cells[1][1]\n",
      "'200' is cells[1][2]\n",
      "'250' is cells[1][3]\n",
      "'150' is cells[1][4]\n",
      "'同期成長' is cells[2][0]\n",
      "'3%' is cells[2][1]\n",
      "'5%' is cells[2][2]\n",
      "'1%' is cells[2][3]\n",
      "'2%' is cells[2][4]\n"
     ]
    }
   ],
   "source": [
    "'''\n",
    "將預設表格內容印出來\n",
    "'''\n",
    "\n",
    "table_slide = ppt.slides[1]\n",
    "for s in table_slide.shapes:\n",
    "    if s.shape_type==19:\n",
    "        shape = s\n",
    "\n",
    "for row_idx, row in enumerate(shape.table.rows):\n",
    "    for col_idx, cell in enumerate(row.cells):\n",
    "        print(\"%r is cells[%d][%d]\" % (cell.text, row_idx, col_idx))"
   ]
  },
  {
   "cell_type": "markdown",
   "id": "34a33944",
   "metadata": {},
   "source": [
    "## 步驟三：更改文字內容，不變更版面配置\n",
    "* 更新模板時間\n",
    "* 更新表格內容（此處有示範添加填色、字體大小等設置）"
   ]
  },
  {
   "cell_type": "code",
   "execution_count": 53,
   "id": "555078cc",
   "metadata": {},
   "outputs": [
    {
     "name": "stdout",
     "output_type": "stream",
     "text": [
      "2022/06\n",
      "2022/07\n"
     ]
    }
   ],
   "source": [
    "'''\n",
    "更新模板首頁副標題的時間為當前年月\n",
    "註解掉的是可以有其他更多的設置\n",
    "'''\n",
    "\n",
    "cover_slide = ppt.slides[0]\n",
    "for s in cover_slide.shapes:\n",
    "    if s.shape_id==3:\n",
    "        shape = s\n",
    "print(shape.text)\n",
    "shape.text = datetime.strftime(datetime.today(), '%Y/%m')\n",
    "print(shape.text)\n",
    "\n",
    "# shape.text_frame.paragraphs[0].font.size = Pt(18)\n",
    "# shape.text_frame.paragraphs[0].alignment = PP_ALIGN.CENTER\n",
    "# shape.text_frame.paragraphs[0].font.color.rgb = RGBColor(255, 255, 255)"
   ]
  },
  {
   "cell_type": "code",
   "execution_count": 55,
   "id": "6775fb16",
   "metadata": {},
   "outputs": [],
   "source": [
    "'''\n",
    "更新表格內容\n",
    "若填值為數字需轉成文字才可以做填入\n",
    "'''\n",
    "\n",
    "table_slide = ppt.slides[1]\n",
    "for s in table_slide.shapes:\n",
    "    if s.shape_type==19:\n",
    "        shape = s\n",
    "\n",
    "num_lst = [200, 300, 400, 200]\n",
    "per_lst = [2, 3, 4, 2]\n",
    "\n",
    "for i in range(len(shape.table.rows)):\n",
    "    for j in range(len(shape.table.columns)):\n",
    "        if i == 1 and j != 0:\n",
    "            shape.table.cell(i,j).text = f'{num_lst[j-1]}'\n",
    "            shape.table.cell(i,j).text_frame.paragraphs[0].font.size = Pt(18)\n",
    "            shape.table.cell(i,j).text_frame.paragraphs[0].alignment = PP_ALIGN.CENTER\n",
    "            shape.table.cell(i,j).text_frame.paragraphs[0].font.color.rgb = RGBColor(255, 255, 255) # 字體色\n",
    "            shape.table.cell(i,j).fill.solid()\n",
    "            shape.table.cell(i,j).fill.fore_color.rgb = RGBColor(0, 0, 0) # 填底色\n",
    "        elif i == 2 and j != 0:\n",
    "            shape.table.cell(i,j).text = f'{per_lst[j-1]}%'\n",
    "            shape.table.cell(i,j).text_frame.paragraphs[0].font.size = Pt(18)\n",
    "            shape.table.cell(i,j).text_frame.paragraphs[0].alignment = PP_ALIGN.CENTER\n",
    "            shape.table.cell(i,j).text_frame.paragraphs[0].font.color.rgb = RGBColor(255, 255, 255)\n",
    "            shape.table.cell(i,j).fill.solid()\n",
    "            shape.table.cell(i,j).fill.fore_color.rgb = RGBColor(0, 0, 0)"
   ]
  },
  {
   "cell_type": "code",
   "execution_count": 57,
   "id": "30529316",
   "metadata": {},
   "outputs": [],
   "source": [
    "#### 將檔案輸出\n",
    "ppt.save('customized_template_v2.pptx')"
   ]
  }
 ],
 "metadata": {
  "kernelspec": {
   "display_name": "Python 3",
   "language": "python",
   "name": "python3"
  },
  "language_info": {
   "codemirror_mode": {
    "name": "ipython",
    "version": 3
   },
   "file_extension": ".py",
   "mimetype": "text/x-python",
   "name": "python",
   "nbconvert_exporter": "python",
   "pygments_lexer": "ipython3",
   "version": "3.6.8"
  }
 },
 "nbformat": 4,
 "nbformat_minor": 5
}
